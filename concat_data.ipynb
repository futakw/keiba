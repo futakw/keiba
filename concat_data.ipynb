{
 "cells": [
  {
   "cell_type": "code",
   "execution_count": 1,
   "metadata": {},
   "outputs": [],
   "source": [
    "import numpy as np\n",
    "import pandas as pd\n",
    "from pandas import Series, DataFrame\n",
    "import matplotlib.pyplot as plt\n",
    "import gc"
   ]
  },
  {
   "cell_type": "code",
   "execution_count": 3,
   "metadata": {},
   "outputs": [],
   "source": [
    "pd.set_option(\"display.max_rows\", 200)\n",
    "pd.set_option(\"display.max_columns\", 200)"
   ]
  },
  {
   "cell_type": "code",
   "execution_count": 55,
   "metadata": {
    "scrolled": false
   },
   "outputs": [
    {
     "name": "stderr",
     "output_type": "stream",
     "text": [
      "/anaconda3/lib/python3.6/site-packages/IPython/core/interactiveshell.py:2728: DtypeWarning: Columns (20) have mixed types. Specify dtype option on import or set low_memory=False.\n",
      "  interactivity=interactivity, compiler=compiler, result=result)\n"
     ]
    }
   ],
   "source": [
    "feature = pd.read_csv('/Users/wasedafuuta/Desktop/keiba/netkeiba_data/data10year/feature.csv')\n",
    "payoff = pd.read_csv('/Users/wasedafuuta/Desktop/keiba/netkeiba_data/data10year/payoff.csv')\n",
    "race_info = pd.read_csv('/Users/wasedafuuta/Desktop/keiba/netkeiba_data/data10year/race_info.csv')\n",
    "race_result = pd.read_csv('/Users/wasedafuuta/Desktop/keiba/netkeiba_data/data10year/race_result.csv')\n"
   ]
  },
  {
   "cell_type": "code",
   "execution_count": 56,
   "metadata": {},
   "outputs": [],
   "source": [
    "feature_plus = pd.read_csv('/Users/wasedafuuta/Desktop/keiba/netkeiba-scraper-master-plus/plus_data/feature.csv')\n",
    "payoff_plus = pd.read_csv('/Users/wasedafuuta/Desktop/keiba/netkeiba-scraper-master-plus/plus_data/payoff.csv')\n",
    "race_info_plus = pd.read_csv('/Users/wasedafuuta/Desktop/keiba/netkeiba-scraper-master-plus/plus_data/race_info.csv')\n",
    "race_result_plus = pd.read_csv('/Users/wasedafuuta/Desktop/keiba/netkeiba-scraper-master-plus/plus_data/race_result.csv')"
   ]
  },
  {
   "cell_type": "code",
   "execution_count": 58,
   "metadata": {},
   "outputs": [],
   "source": [
    "def concat_data(feature,payoff,race_info,race_result,feature_plus,payoff_plus,race_info_plus,race_result_plus):\n",
    "    #最大のrace_idを足し算して被りをなくす\n",
    "    n = race_info['id'].max()\n",
    "    feature_plus['race_id'] += n\n",
    "    payoff_plus['race_id'] += n\n",
    "    race_info_plus['id'] += n\n",
    "    race_result_plus['race_id'] += n\n",
    "    #前のデータの最後の日付を取得　→　結合するデータをその日より後のデータだけにする\n",
    "    last_date_of_pre_data = race_info.date.max()\n",
    "    del_id_list = list(race_info_plus[race_info_plus['date']<=last_date_of_pre_data]['id'].unique()) #削除するデータのidリスト\n",
    "    for del_id in del_id_list:\n",
    "        feature_plus.drop(feature_plus.index[feature_plus.race_id == del_id], inplace=True)\n",
    "        payoff_plus.drop(payoff_plus.index[payoff_plus.race_id == del_id], inplace=True)\n",
    "        race_info_plus.drop(race_info_plus.index[race_info_plus.id == del_id], inplace=True)\n",
    "        race_result_plus.drop(race_result_plus.index[race_result_plus.race_id == del_id], inplace=True)\n",
    "    #結合\n",
    "    new_feature = pd.concat([feature, feature_plus])\n",
    "    new_payoff = pd.concat([payoff, payoff_plus])\n",
    "    new_race_info = pd.concat([race_info, race_info_plus])\n",
    "    new_race_result = pd.concat([race_result, race_result_plus])\n",
    "    #index振り直し\n",
    "    reidx_new_race_info = new_race_info.reset_index().drop('index',axis=1)\n",
    "    #振り直したindex+1を、new_idとしてカラムに追加\n",
    "    reidx_new_race_info = reidx_new_race_info.reset_index()\n",
    "    reidx_new_race_info = reidx_new_race_info.rename(columns={'index': 'new_id' , 'id':'race_id'})\n",
    "    reidx_new_race_info['new_id'] = reidx_new_race_info['new_id']+1\n",
    "    #idが１〜綺麗に揃うように変更していく\n",
    "    reidx_new_feature = pd.merge( reidx_new_race_info[['new_id', 'race_id']],new_feature,  on='race_id')\n",
    "    reidx_new_feature = reidx_new_feature.drop('race_id',axis=1).rename(columns={'new_id':'race_id'})\n",
    "    reidx_new_payoff = pd.merge( reidx_new_race_info[['new_id', 'race_id']],new_payoff,  on='race_id')\n",
    "    reidx_new_payoff = reidx_new_payoff.drop('race_id',axis=1).rename(columns={'new_id':'race_id'})\n",
    "    reidx_new_race_result = pd.merge( reidx_new_race_info[['new_id', 'race_id']],new_race_result,  on='race_id')\n",
    "    reidx_new_race_result = reidx_new_race_result.drop('race_id',axis=1).rename(columns={'new_id':'race_id'})\n",
    "    #race_infoのrace_idをidに直しておく\n",
    "    reidx_new_race_info = reidx_new_race_info.drop('race_id',axis=1).rename(columns={'new_id':'id'})\n",
    "    \n",
    "    return reidx_new_feature, reidx_new_payoff, reidx_new_race_info, reidx_new_race_result"
   ]
  },
  {
   "cell_type": "code",
   "execution_count": 59,
   "metadata": {},
   "outputs": [],
   "source": [
    "a,b,c,d = concat_data(feature,payoff,race_info,race_result,feature_plus,payoff_plus,race_info_plus,race_result_plus)"
   ]
  },
  {
   "cell_type": "code",
   "execution_count": 64,
   "metadata": {},
   "outputs": [],
   "source": [
    "a.to_csv('feature.csv',index=False)\n",
    "b.to_csv('payoff.csv',index=False)\n",
    "c.to_csv('race_info.csv',index=False)\n",
    "d.to_csv('race_result.csv',index=False)"
   ]
  },
  {
   "cell_type": "code",
   "execution_count": 67,
   "metadata": {},
   "outputs": [
    {
     "data": {
      "text/html": [
       "<div>\n",
       "<style scoped>\n",
       "    .dataframe tbody tr th:only-of-type {\n",
       "        vertical-align: middle;\n",
       "    }\n",
       "\n",
       "    .dataframe tbody tr th {\n",
       "        vertical-align: top;\n",
       "    }\n",
       "\n",
       "    .dataframe thead th {\n",
       "        text-align: right;\n",
       "    }\n",
       "</style>\n",
       "<table border=\"1\" class=\"dataframe\">\n",
       "  <thead>\n",
       "    <tr style=\"text-align: right;\">\n",
       "      <th></th>\n",
       "      <th>race_id</th>\n",
       "      <th>horse_number</th>\n",
       "      <th>grade</th>\n",
       "      <th>order_of_finish</th>\n",
       "      <th>horse_id</th>\n",
       "      <th>jockey_id</th>\n",
       "      <th>trainer_id</th>\n",
       "      <th>age</th>\n",
       "      <th>avgsr4</th>\n",
       "      <th>avgWin4</th>\n",
       "      <th>dhweight</th>\n",
       "      <th>disavesr</th>\n",
       "      <th>disRoc</th>\n",
       "      <th>distance</th>\n",
       "      <th>dsl</th>\n",
       "      <th>enterTimes</th>\n",
       "      <th>eps</th>\n",
       "      <th>hweight</th>\n",
       "      <th>jwinper</th>\n",
       "      <th>odds</th>\n",
       "      <th>owinper</th>\n",
       "      <th>preSRa</th>\n",
       "      <th>sex</th>\n",
       "      <th>surface</th>\n",
       "      <th>surfaceScore</th>\n",
       "      <th>twinper</th>\n",
       "      <th>weather</th>\n",
       "      <th>weight</th>\n",
       "      <th>winRun</th>\n",
       "      <th>jEps</th>\n",
       "      <th>jAvgWin4</th>\n",
       "      <th>preOOF</th>\n",
       "      <th>pre2OOF</th>\n",
       "      <th>month</th>\n",
       "      <th>ridingStrongJockey</th>\n",
       "      <th>runningStyle</th>\n",
       "      <th>preLateStart</th>\n",
       "      <th>preLastPhase</th>\n",
       "      <th>lateStartPer</th>\n",
       "      <th>course</th>\n",
       "      <th>placeCode</th>\n",
       "      <th>headCount</th>\n",
       "      <th>preHeadCount</th>\n",
       "      <th>surfaceChanged</th>\n",
       "      <th>gradeChanged</th>\n",
       "      <th>preMargin</th>\n",
       "      <th>femaleOnly</th>\n",
       "    </tr>\n",
       "  </thead>\n",
       "  <tbody>\n",
       "    <tr>\n",
       "      <th>504745</th>\n",
       "      <td>34990</td>\n",
       "      <td>18</td>\n",
       "      <td>2</td>\n",
       "      <td>14.0</td>\n",
       "      <td>2013103969</td>\n",
       "      <td>1114</td>\n",
       "      <td>356</td>\n",
       "      <td>5.0</td>\n",
       "      <td>NaN</td>\n",
       "      <td>NaN</td>\n",
       "      <td>6.0</td>\n",
       "      <td>NaN</td>\n",
       "      <td>NaN</td>\n",
       "      <td>1200.0</td>\n",
       "      <td>NaN</td>\n",
       "      <td>0.0</td>\n",
       "      <td>NaN</td>\n",
       "      <td>470.0</td>\n",
       "      <td>0.00000</td>\n",
       "      <td>348.2</td>\n",
       "      <td>NaN</td>\n",
       "      <td>NaN</td>\n",
       "      <td>セ</td>\n",
       "      <td>芝</td>\n",
       "      <td>NaN</td>\n",
       "      <td>0.071429</td>\n",
       "      <td>晴</td>\n",
       "      <td>53.0</td>\n",
       "      <td>NaN</td>\n",
       "      <td>25.000000</td>\n",
       "      <td>NaN</td>\n",
       "      <td>NaN</td>\n",
       "      <td>NaN</td>\n",
       "      <td>10.0</td>\n",
       "      <td>NaN</td>\n",
       "      <td>NaN</td>\n",
       "      <td>0.0</td>\n",
       "      <td>NaN</td>\n",
       "      <td>NaN</td>\n",
       "      <td>右</td>\n",
       "      <td>京都</td>\n",
       "      <td>18.0</td>\n",
       "      <td>NaN</td>\n",
       "      <td>NaN</td>\n",
       "      <td>NaN</td>\n",
       "      <td>NaN</td>\n",
       "      <td>0.0</td>\n",
       "    </tr>\n",
       "    <tr>\n",
       "      <th>504746</th>\n",
       "      <td>34990</td>\n",
       "      <td>11</td>\n",
       "      <td>2</td>\n",
       "      <td>15.0</td>\n",
       "      <td>2014103884</td>\n",
       "      <td>894</td>\n",
       "      <td>427</td>\n",
       "      <td>4.0</td>\n",
       "      <td>NaN</td>\n",
       "      <td>NaN</td>\n",
       "      <td>3.0</td>\n",
       "      <td>NaN</td>\n",
       "      <td>NaN</td>\n",
       "      <td>1200.0</td>\n",
       "      <td>NaN</td>\n",
       "      <td>0.0</td>\n",
       "      <td>NaN</td>\n",
       "      <td>538.0</td>\n",
       "      <td>0.00000</td>\n",
       "      <td>256.1</td>\n",
       "      <td>0.0</td>\n",
       "      <td>NaN</td>\n",
       "      <td>牡</td>\n",
       "      <td>芝</td>\n",
       "      <td>NaN</td>\n",
       "      <td>0.000000</td>\n",
       "      <td>晴</td>\n",
       "      <td>53.0</td>\n",
       "      <td>NaN</td>\n",
       "      <td>18.928571</td>\n",
       "      <td>NaN</td>\n",
       "      <td>NaN</td>\n",
       "      <td>NaN</td>\n",
       "      <td>10.0</td>\n",
       "      <td>NaN</td>\n",
       "      <td>NaN</td>\n",
       "      <td>0.0</td>\n",
       "      <td>NaN</td>\n",
       "      <td>NaN</td>\n",
       "      <td>右</td>\n",
       "      <td>京都</td>\n",
       "      <td>18.0</td>\n",
       "      <td>NaN</td>\n",
       "      <td>NaN</td>\n",
       "      <td>NaN</td>\n",
       "      <td>NaN</td>\n",
       "      <td>0.0</td>\n",
       "    </tr>\n",
       "    <tr>\n",
       "      <th>504747</th>\n",
       "      <td>34990</td>\n",
       "      <td>12</td>\n",
       "      <td>2</td>\n",
       "      <td>16.0</td>\n",
       "      <td>2015103673</td>\n",
       "      <td>1156</td>\n",
       "      <td>1028</td>\n",
       "      <td>3.0</td>\n",
       "      <td>NaN</td>\n",
       "      <td>NaN</td>\n",
       "      <td>8.0</td>\n",
       "      <td>NaN</td>\n",
       "      <td>NaN</td>\n",
       "      <td>1200.0</td>\n",
       "      <td>NaN</td>\n",
       "      <td>0.0</td>\n",
       "      <td>NaN</td>\n",
       "      <td>430.0</td>\n",
       "      <td>0.00000</td>\n",
       "      <td>22.1</td>\n",
       "      <td>0.0</td>\n",
       "      <td>NaN</td>\n",
       "      <td>牝</td>\n",
       "      <td>芝</td>\n",
       "      <td>NaN</td>\n",
       "      <td>0.066667</td>\n",
       "      <td>晴</td>\n",
       "      <td>51.0</td>\n",
       "      <td>NaN</td>\n",
       "      <td>35.111111</td>\n",
       "      <td>NaN</td>\n",
       "      <td>NaN</td>\n",
       "      <td>NaN</td>\n",
       "      <td>10.0</td>\n",
       "      <td>NaN</td>\n",
       "      <td>NaN</td>\n",
       "      <td>0.0</td>\n",
       "      <td>NaN</td>\n",
       "      <td>NaN</td>\n",
       "      <td>右</td>\n",
       "      <td>京都</td>\n",
       "      <td>18.0</td>\n",
       "      <td>NaN</td>\n",
       "      <td>NaN</td>\n",
       "      <td>NaN</td>\n",
       "      <td>NaN</td>\n",
       "      <td>0.0</td>\n",
       "    </tr>\n",
       "    <tr>\n",
       "      <th>504748</th>\n",
       "      <td>34990</td>\n",
       "      <td>4</td>\n",
       "      <td>2</td>\n",
       "      <td>17.0</td>\n",
       "      <td>2013103801</td>\n",
       "      <td>1037</td>\n",
       "      <td>1078</td>\n",
       "      <td>5.0</td>\n",
       "      <td>NaN</td>\n",
       "      <td>NaN</td>\n",
       "      <td>12.0</td>\n",
       "      <td>NaN</td>\n",
       "      <td>NaN</td>\n",
       "      <td>1200.0</td>\n",
       "      <td>NaN</td>\n",
       "      <td>0.0</td>\n",
       "      <td>NaN</td>\n",
       "      <td>488.0</td>\n",
       "      <td>0.00000</td>\n",
       "      <td>50.4</td>\n",
       "      <td>0.0</td>\n",
       "      <td>NaN</td>\n",
       "      <td>牡</td>\n",
       "      <td>芝</td>\n",
       "      <td>NaN</td>\n",
       "      <td>0.181818</td>\n",
       "      <td>晴</td>\n",
       "      <td>56.0</td>\n",
       "      <td>NaN</td>\n",
       "      <td>68.304167</td>\n",
       "      <td>NaN</td>\n",
       "      <td>NaN</td>\n",
       "      <td>NaN</td>\n",
       "      <td>10.0</td>\n",
       "      <td>NaN</td>\n",
       "      <td>NaN</td>\n",
       "      <td>0.0</td>\n",
       "      <td>NaN</td>\n",
       "      <td>NaN</td>\n",
       "      <td>右</td>\n",
       "      <td>京都</td>\n",
       "      <td>18.0</td>\n",
       "      <td>NaN</td>\n",
       "      <td>NaN</td>\n",
       "      <td>NaN</td>\n",
       "      <td>NaN</td>\n",
       "      <td>0.0</td>\n",
       "    </tr>\n",
       "    <tr>\n",
       "      <th>504749</th>\n",
       "      <td>34990</td>\n",
       "      <td>7</td>\n",
       "      <td>2</td>\n",
       "      <td>18.0</td>\n",
       "      <td>2011105974</td>\n",
       "      <td>1018</td>\n",
       "      <td>1087</td>\n",
       "      <td>7.0</td>\n",
       "      <td>NaN</td>\n",
       "      <td>NaN</td>\n",
       "      <td>4.0</td>\n",
       "      <td>NaN</td>\n",
       "      <td>NaN</td>\n",
       "      <td>1200.0</td>\n",
       "      <td>NaN</td>\n",
       "      <td>0.0</td>\n",
       "      <td>NaN</td>\n",
       "      <td>528.0</td>\n",
       "      <td>0.06383</td>\n",
       "      <td>16.8</td>\n",
       "      <td>NaN</td>\n",
       "      <td>NaN</td>\n",
       "      <td>牝</td>\n",
       "      <td>芝</td>\n",
       "      <td>NaN</td>\n",
       "      <td>0.083333</td>\n",
       "      <td>晴</td>\n",
       "      <td>53.0</td>\n",
       "      <td>NaN</td>\n",
       "      <td>112.553191</td>\n",
       "      <td>NaN</td>\n",
       "      <td>NaN</td>\n",
       "      <td>NaN</td>\n",
       "      <td>10.0</td>\n",
       "      <td>NaN</td>\n",
       "      <td>NaN</td>\n",
       "      <td>0.0</td>\n",
       "      <td>NaN</td>\n",
       "      <td>NaN</td>\n",
       "      <td>右</td>\n",
       "      <td>京都</td>\n",
       "      <td>18.0</td>\n",
       "      <td>NaN</td>\n",
       "      <td>NaN</td>\n",
       "      <td>NaN</td>\n",
       "      <td>NaN</td>\n",
       "      <td>0.0</td>\n",
       "    </tr>\n",
       "  </tbody>\n",
       "</table>\n",
       "</div>"
      ],
      "text/plain": [
       "        race_id  horse_number  grade  order_of_finish    horse_id  jockey_id  \\\n",
       "504745    34990            18      2             14.0  2013103969       1114   \n",
       "504746    34990            11      2             15.0  2014103884        894   \n",
       "504747    34990            12      2             16.0  2015103673       1156   \n",
       "504748    34990             4      2             17.0  2013103801       1037   \n",
       "504749    34990             7      2             18.0  2011105974       1018   \n",
       "\n",
       "        trainer_id  age  avgsr4  avgWin4  dhweight  disavesr  disRoc  \\\n",
       "504745         356  5.0     NaN      NaN       6.0       NaN     NaN   \n",
       "504746         427  4.0     NaN      NaN       3.0       NaN     NaN   \n",
       "504747        1028  3.0     NaN      NaN       8.0       NaN     NaN   \n",
       "504748        1078  5.0     NaN      NaN      12.0       NaN     NaN   \n",
       "504749        1087  7.0     NaN      NaN       4.0       NaN     NaN   \n",
       "\n",
       "        distance  dsl  enterTimes  eps  hweight  jwinper   odds  owinper  \\\n",
       "504745    1200.0  NaN         0.0  NaN    470.0  0.00000  348.2      NaN   \n",
       "504746    1200.0  NaN         0.0  NaN    538.0  0.00000  256.1      0.0   \n",
       "504747    1200.0  NaN         0.0  NaN    430.0  0.00000   22.1      0.0   \n",
       "504748    1200.0  NaN         0.0  NaN    488.0  0.00000   50.4      0.0   \n",
       "504749    1200.0  NaN         0.0  NaN    528.0  0.06383   16.8      NaN   \n",
       "\n",
       "        preSRa sex surface  surfaceScore   twinper weather  weight  winRun  \\\n",
       "504745     NaN   セ       芝           NaN  0.071429       晴    53.0     NaN   \n",
       "504746     NaN   牡       芝           NaN  0.000000       晴    53.0     NaN   \n",
       "504747     NaN   牝       芝           NaN  0.066667       晴    51.0     NaN   \n",
       "504748     NaN   牡       芝           NaN  0.181818       晴    56.0     NaN   \n",
       "504749     NaN   牝       芝           NaN  0.083333       晴    53.0     NaN   \n",
       "\n",
       "              jEps  jAvgWin4 preOOF pre2OOF  month  ridingStrongJockey  \\\n",
       "504745   25.000000       NaN    NaN     NaN   10.0                 NaN   \n",
       "504746   18.928571       NaN    NaN     NaN   10.0                 NaN   \n",
       "504747   35.111111       NaN    NaN     NaN   10.0                 NaN   \n",
       "504748   68.304167       NaN    NaN     NaN   10.0                 NaN   \n",
       "504749  112.553191       NaN    NaN     NaN   10.0                 NaN   \n",
       "\n",
       "        runningStyle  preLateStart  preLastPhase  lateStartPer course  \\\n",
       "504745           NaN           0.0           NaN           NaN      右   \n",
       "504746           NaN           0.0           NaN           NaN      右   \n",
       "504747           NaN           0.0           NaN           NaN      右   \n",
       "504748           NaN           0.0           NaN           NaN      右   \n",
       "504749           NaN           0.0           NaN           NaN      右   \n",
       "\n",
       "       placeCode  headCount  preHeadCount  surfaceChanged  gradeChanged  \\\n",
       "504745        京都       18.0           NaN             NaN           NaN   \n",
       "504746        京都       18.0           NaN             NaN           NaN   \n",
       "504747        京都       18.0           NaN             NaN           NaN   \n",
       "504748        京都       18.0           NaN             NaN           NaN   \n",
       "504749        京都       18.0           NaN             NaN           NaN   \n",
       "\n",
       "       preMargin  femaleOnly  \n",
       "504745       NaN         0.0  \n",
       "504746       NaN         0.0  \n",
       "504747       NaN         0.0  \n",
       "504748       NaN         0.0  \n",
       "504749       NaN         0.0  "
      ]
     },
     "execution_count": 67,
     "metadata": {},
     "output_type": "execute_result"
    }
   ],
   "source": [
    "pd.read_csv('feature.csv').tail()"
   ]
  },
  {
   "cell_type": "code",
   "execution_count": null,
   "metadata": {},
   "outputs": [],
   "source": []
  },
  {
   "cell_type": "code",
   "execution_count": 11,
   "metadata": {},
   "outputs": [
    {
     "data": {
      "text/plain": [
       "34439"
      ]
     },
     "execution_count": 11,
     "metadata": {},
     "output_type": "execute_result"
    }
   ],
   "source": [
    "n = race_info['id'].max()\n",
    "n"
   ]
  },
  {
   "cell_type": "code",
   "execution_count": 12,
   "metadata": {},
   "outputs": [],
   "source": [
    "feature_plus['race_id'] += n\n",
    "payoff_plus['race_id'] += n\n",
    "race_info_plus['id'] += n\n",
    "race_result_plus['race_id'] += n"
   ]
  },
  {
   "cell_type": "code",
   "execution_count": 13,
   "metadata": {},
   "outputs": [
    {
     "data": {
      "text/plain": [
       "'2018-10-14'"
      ]
     },
     "execution_count": 13,
     "metadata": {},
     "output_type": "execute_result"
    }
   ],
   "source": [
    "last_date_of_pre_data = race_info.date.max()\n",
    "last_date_of_pre_data"
   ]
  },
  {
   "cell_type": "code",
   "execution_count": 15,
   "metadata": {},
   "outputs": [
    {
     "data": {
      "text/plain": [
       "[34440, 34445, 34449, 34451, 34453, 34457]"
      ]
     },
     "execution_count": 15,
     "metadata": {},
     "output_type": "execute_result"
    }
   ],
   "source": [
    "del_id_list = list(race_info_plus[race_info_plus['date']<=last_date_of_pre_data]['id'].unique())\n",
    "del_id_list[0:6]"
   ]
  },
  {
   "cell_type": "code",
   "execution_count": 16,
   "metadata": {},
   "outputs": [],
   "source": [
    "for del_id in del_id_list:\n",
    "    feature_plus.drop(feature_plus.index[feature_plus.race_id == del_id], inplace=True)\n",
    "    payoff_plus.drop(payoff_plus.index[payoff_plus.race_id == del_id], inplace=True)\n",
    "    race_info_plus.drop(race_info_plus.index[race_info_plus.id == del_id], inplace=True)\n",
    "    race_result_plus.drop(race_result_plus.index[race_result_plus.race_id == del_id], inplace=True)"
   ]
  },
  {
   "cell_type": "code",
   "execution_count": 32,
   "metadata": {},
   "outputs": [],
   "source": [
    "new_feature = pd.concat([feature, feature_plus])\n",
    "new_payoff = pd.concat([payoff, payoff_plus])\n",
    "new_race_info = pd.concat([race_info, race_info_plus])\n",
    "new_race_result = pd.concat([race_result, race_result_plus])"
   ]
  },
  {
   "cell_type": "code",
   "execution_count": 34,
   "metadata": {},
   "outputs": [
    {
     "data": {
      "text/html": [
       "<div>\n",
       "<style scoped>\n",
       "    .dataframe tbody tr th:only-of-type {\n",
       "        vertical-align: middle;\n",
       "    }\n",
       "\n",
       "    .dataframe tbody tr th {\n",
       "        vertical-align: top;\n",
       "    }\n",
       "\n",
       "    .dataframe thead th {\n",
       "        text-align: right;\n",
       "    }\n",
       "</style>\n",
       "<table border=\"1\" class=\"dataframe\">\n",
       "  <thead>\n",
       "    <tr style=\"text-align: right;\">\n",
       "      <th></th>\n",
       "      <th>id</th>\n",
       "      <th>race_name</th>\n",
       "      <th>surface</th>\n",
       "      <th>distance</th>\n",
       "      <th>weather</th>\n",
       "      <th>surface_state</th>\n",
       "      <th>race_start</th>\n",
       "      <th>race_number</th>\n",
       "      <th>surface_score</th>\n",
       "      <th>date</th>\n",
       "      <th>place_detail</th>\n",
       "      <th>race_class</th>\n",
       "    </tr>\n",
       "  </thead>\n",
       "  <tbody>\n",
       "    <tr>\n",
       "      <th>34985</th>\n",
       "      <td>35142</td>\n",
       "      <td>2歳新馬</td>\n",
       "      <td>芝左</td>\n",
       "      <td>1600</td>\n",
       "      <td>晴</td>\n",
       "      <td>芝 : 良</td>\n",
       "      <td>12:45</td>\n",
       "      <td>6</td>\n",
       "      <td>NaN</td>\n",
       "      <td>2018-11-10</td>\n",
       "      <td>5回東京3日目</td>\n",
       "      <td>サラ系2歳新馬  [指](馬齢)</td>\n",
       "    </tr>\n",
       "    <tr>\n",
       "      <th>34986</th>\n",
       "      <td>35143</td>\n",
       "      <td>浦佐特別</td>\n",
       "      <td>芝左外</td>\n",
       "      <td>2000</td>\n",
       "      <td>晴</td>\n",
       "      <td>芝 : 良</td>\n",
       "      <td>14:40</td>\n",
       "      <td>10</td>\n",
       "      <td>NaN</td>\n",
       "      <td>2018-10-21</td>\n",
       "      <td>3回新潟4日目</td>\n",
       "      <td>サラ系3歳以上500万下  (混)[指](定量)</td>\n",
       "    </tr>\n",
       "    <tr>\n",
       "      <th>34987</th>\n",
       "      <td>35144</td>\n",
       "      <td>3歳上500万下</td>\n",
       "      <td>芝右</td>\n",
       "      <td>1200</td>\n",
       "      <td>曇</td>\n",
       "      <td>芝 : 良</td>\n",
       "      <td>14:10</td>\n",
       "      <td>9</td>\n",
       "      <td>NaN</td>\n",
       "      <td>2018-11-17</td>\n",
       "      <td>3回福島5日目</td>\n",
       "      <td>サラ系3歳以上500万下   (定量)</td>\n",
       "    </tr>\n",
       "    <tr>\n",
       "      <th>34988</th>\n",
       "      <td>35145</td>\n",
       "      <td>秋明菊賞</td>\n",
       "      <td>芝右外</td>\n",
       "      <td>1400</td>\n",
       "      <td>晴</td>\n",
       "      <td>芝 : 良</td>\n",
       "      <td>14:25</td>\n",
       "      <td>9</td>\n",
       "      <td>NaN</td>\n",
       "      <td>2018-11-18</td>\n",
       "      <td>5回京都6日目</td>\n",
       "      <td>サラ系2歳500万下  (混)(特指)(馬齢)</td>\n",
       "    </tr>\n",
       "    <tr>\n",
       "      <th>34989</th>\n",
       "      <td>35146</td>\n",
       "      <td>壬生特別</td>\n",
       "      <td>芝右</td>\n",
       "      <td>1200</td>\n",
       "      <td>晴</td>\n",
       "      <td>芝 : 良</td>\n",
       "      <td>14:25</td>\n",
       "      <td>9</td>\n",
       "      <td>NaN</td>\n",
       "      <td>2018-10-20</td>\n",
       "      <td>4回京都6日目</td>\n",
       "      <td>サラ系3歳以上1000万下  (混)[指](ハンデ)</td>\n",
       "    </tr>\n",
       "  </tbody>\n",
       "</table>\n",
       "</div>"
      ],
      "text/plain": [
       "          id race_name surface  distance weather surface_state race_start  \\\n",
       "34985  35142      2歳新馬      芝左      1600       晴         芝 : 良      12:45   \n",
       "34986  35143      浦佐特別     芝左外      2000       晴         芝 : 良      14:40   \n",
       "34987  35144  3歳上500万下      芝右      1200       曇         芝 : 良      14:10   \n",
       "34988  35145      秋明菊賞     芝右外      1400       晴         芝 : 良      14:25   \n",
       "34989  35146      壬生特別      芝右      1200       晴         芝 : 良      14:25   \n",
       "\n",
       "       race_number  surface_score        date place_detail  \\\n",
       "34985            6            NaN  2018-11-10      5回東京3日目   \n",
       "34986           10            NaN  2018-10-21      3回新潟4日目   \n",
       "34987            9            NaN  2018-11-17      3回福島5日目   \n",
       "34988            9            NaN  2018-11-18      5回京都6日目   \n",
       "34989            9            NaN  2018-10-20      4回京都6日目   \n",
       "\n",
       "                       race_class  \n",
       "34985            サラ系2歳新馬  [指](馬齢)  \n",
       "34986    サラ系3歳以上500万下  (混)[指](定量)  \n",
       "34987         サラ系3歳以上500万下   (定量)  \n",
       "34988     サラ系2歳500万下  (混)(特指)(馬齢)  \n",
       "34989  サラ系3歳以上1000万下  (混)[指](ハンデ)  "
      ]
     },
     "execution_count": 34,
     "metadata": {},
     "output_type": "execute_result"
    }
   ],
   "source": [
    "#index振り直し\n",
    "new_race_info = new_race_info.reset_index().drop('index',axis=1)\n",
    "new_race_info.tail()"
   ]
  },
  {
   "cell_type": "code",
   "execution_count": 35,
   "metadata": {},
   "outputs": [
    {
     "data": {
      "text/html": [
       "<div>\n",
       "<style scoped>\n",
       "    .dataframe tbody tr th:only-of-type {\n",
       "        vertical-align: middle;\n",
       "    }\n",
       "\n",
       "    .dataframe tbody tr th {\n",
       "        vertical-align: top;\n",
       "    }\n",
       "\n",
       "    .dataframe thead th {\n",
       "        text-align: right;\n",
       "    }\n",
       "</style>\n",
       "<table border=\"1\" class=\"dataframe\">\n",
       "  <thead>\n",
       "    <tr style=\"text-align: right;\">\n",
       "      <th></th>\n",
       "      <th>new_id</th>\n",
       "      <th>race_id</th>\n",
       "      <th>race_name</th>\n",
       "      <th>surface</th>\n",
       "      <th>distance</th>\n",
       "      <th>weather</th>\n",
       "      <th>surface_state</th>\n",
       "      <th>race_start</th>\n",
       "      <th>race_number</th>\n",
       "      <th>surface_score</th>\n",
       "      <th>date</th>\n",
       "      <th>place_detail</th>\n",
       "      <th>race_class</th>\n",
       "    </tr>\n",
       "  </thead>\n",
       "  <tbody>\n",
       "    <tr>\n",
       "      <th>34985</th>\n",
       "      <td>34986</td>\n",
       "      <td>35142</td>\n",
       "      <td>2歳新馬</td>\n",
       "      <td>芝左</td>\n",
       "      <td>1600</td>\n",
       "      <td>晴</td>\n",
       "      <td>芝 : 良</td>\n",
       "      <td>12:45</td>\n",
       "      <td>6</td>\n",
       "      <td>NaN</td>\n",
       "      <td>2018-11-10</td>\n",
       "      <td>5回東京3日目</td>\n",
       "      <td>サラ系2歳新馬  [指](馬齢)</td>\n",
       "    </tr>\n",
       "    <tr>\n",
       "      <th>34986</th>\n",
       "      <td>34987</td>\n",
       "      <td>35143</td>\n",
       "      <td>浦佐特別</td>\n",
       "      <td>芝左外</td>\n",
       "      <td>2000</td>\n",
       "      <td>晴</td>\n",
       "      <td>芝 : 良</td>\n",
       "      <td>14:40</td>\n",
       "      <td>10</td>\n",
       "      <td>NaN</td>\n",
       "      <td>2018-10-21</td>\n",
       "      <td>3回新潟4日目</td>\n",
       "      <td>サラ系3歳以上500万下  (混)[指](定量)</td>\n",
       "    </tr>\n",
       "    <tr>\n",
       "      <th>34987</th>\n",
       "      <td>34988</td>\n",
       "      <td>35144</td>\n",
       "      <td>3歳上500万下</td>\n",
       "      <td>芝右</td>\n",
       "      <td>1200</td>\n",
       "      <td>曇</td>\n",
       "      <td>芝 : 良</td>\n",
       "      <td>14:10</td>\n",
       "      <td>9</td>\n",
       "      <td>NaN</td>\n",
       "      <td>2018-11-17</td>\n",
       "      <td>3回福島5日目</td>\n",
       "      <td>サラ系3歳以上500万下   (定量)</td>\n",
       "    </tr>\n",
       "    <tr>\n",
       "      <th>34988</th>\n",
       "      <td>34989</td>\n",
       "      <td>35145</td>\n",
       "      <td>秋明菊賞</td>\n",
       "      <td>芝右外</td>\n",
       "      <td>1400</td>\n",
       "      <td>晴</td>\n",
       "      <td>芝 : 良</td>\n",
       "      <td>14:25</td>\n",
       "      <td>9</td>\n",
       "      <td>NaN</td>\n",
       "      <td>2018-11-18</td>\n",
       "      <td>5回京都6日目</td>\n",
       "      <td>サラ系2歳500万下  (混)(特指)(馬齢)</td>\n",
       "    </tr>\n",
       "    <tr>\n",
       "      <th>34989</th>\n",
       "      <td>34990</td>\n",
       "      <td>35146</td>\n",
       "      <td>壬生特別</td>\n",
       "      <td>芝右</td>\n",
       "      <td>1200</td>\n",
       "      <td>晴</td>\n",
       "      <td>芝 : 良</td>\n",
       "      <td>14:25</td>\n",
       "      <td>9</td>\n",
       "      <td>NaN</td>\n",
       "      <td>2018-10-20</td>\n",
       "      <td>4回京都6日目</td>\n",
       "      <td>サラ系3歳以上1000万下  (混)[指](ハンデ)</td>\n",
       "    </tr>\n",
       "  </tbody>\n",
       "</table>\n",
       "</div>"
      ],
      "text/plain": [
       "       new_id  race_id race_name surface  distance weather surface_state  \\\n",
       "34985   34986    35142      2歳新馬      芝左      1600       晴         芝 : 良   \n",
       "34986   34987    35143      浦佐特別     芝左外      2000       晴         芝 : 良   \n",
       "34987   34988    35144  3歳上500万下      芝右      1200       曇         芝 : 良   \n",
       "34988   34989    35145      秋明菊賞     芝右外      1400       晴         芝 : 良   \n",
       "34989   34990    35146      壬生特別      芝右      1200       晴         芝 : 良   \n",
       "\n",
       "      race_start  race_number  surface_score        date place_detail  \\\n",
       "34985      12:45            6            NaN  2018-11-10      5回東京3日目   \n",
       "34986      14:40           10            NaN  2018-10-21      3回新潟4日目   \n",
       "34987      14:10            9            NaN  2018-11-17      3回福島5日目   \n",
       "34988      14:25            9            NaN  2018-11-18      5回京都6日目   \n",
       "34989      14:25            9            NaN  2018-10-20      4回京都6日目   \n",
       "\n",
       "                       race_class  \n",
       "34985            サラ系2歳新馬  [指](馬齢)  \n",
       "34986    サラ系3歳以上500万下  (混)[指](定量)  \n",
       "34987         サラ系3歳以上500万下   (定量)  \n",
       "34988     サラ系2歳500万下  (混)(特指)(馬齢)  \n",
       "34989  サラ系3歳以上1000万下  (混)[指](ハンデ)  "
      ]
     },
     "execution_count": 35,
     "metadata": {},
     "output_type": "execute_result"
    }
   ],
   "source": [
    "#振り直したindexを、new_idとしてカラムに追加\n",
    "new_race_info = new_race_info.reset_index()\n",
    "new_race_info = new_race_info.rename(columns={'index': 'new_id' , 'id':'race_id'})\n",
    "new_race_info['new_id'] = new_race_info['new_id']+1\n",
    "new_race_info.tail()"
   ]
  },
  {
   "cell_type": "code",
   "execution_count": 40,
   "metadata": {},
   "outputs": [
    {
     "data": {
      "text/html": [
       "<div>\n",
       "<style scoped>\n",
       "    .dataframe tbody tr th:only-of-type {\n",
       "        vertical-align: middle;\n",
       "    }\n",
       "\n",
       "    .dataframe tbody tr th {\n",
       "        vertical-align: top;\n",
       "    }\n",
       "\n",
       "    .dataframe thead th {\n",
       "        text-align: right;\n",
       "    }\n",
       "</style>\n",
       "<table border=\"1\" class=\"dataframe\">\n",
       "  <thead>\n",
       "    <tr style=\"text-align: right;\">\n",
       "      <th></th>\n",
       "      <th>race_id</th>\n",
       "      <th>horse_number</th>\n",
       "      <th>grade</th>\n",
       "      <th>order_of_finish</th>\n",
       "      <th>horse_id</th>\n",
       "      <th>jockey_id</th>\n",
       "      <th>trainer_id</th>\n",
       "      <th>age</th>\n",
       "      <th>avgsr4</th>\n",
       "      <th>avgWin4</th>\n",
       "      <th>dhweight</th>\n",
       "      <th>disavesr</th>\n",
       "      <th>disRoc</th>\n",
       "      <th>distance</th>\n",
       "      <th>dsl</th>\n",
       "      <th>enterTimes</th>\n",
       "      <th>eps</th>\n",
       "      <th>hweight</th>\n",
       "      <th>jwinper</th>\n",
       "      <th>odds</th>\n",
       "      <th>owinper</th>\n",
       "      <th>preSRa</th>\n",
       "      <th>sex</th>\n",
       "      <th>surface</th>\n",
       "      <th>surfaceScore</th>\n",
       "      <th>twinper</th>\n",
       "      <th>weather</th>\n",
       "      <th>weight</th>\n",
       "      <th>winRun</th>\n",
       "      <th>jEps</th>\n",
       "      <th>jAvgWin4</th>\n",
       "      <th>preOOF</th>\n",
       "      <th>pre2OOF</th>\n",
       "      <th>month</th>\n",
       "      <th>ridingStrongJockey</th>\n",
       "      <th>runningStyle</th>\n",
       "      <th>preLateStart</th>\n",
       "      <th>preLastPhase</th>\n",
       "      <th>lateStartPer</th>\n",
       "      <th>course</th>\n",
       "      <th>placeCode</th>\n",
       "      <th>headCount</th>\n",
       "      <th>preHeadCount</th>\n",
       "      <th>surfaceChanged</th>\n",
       "      <th>gradeChanged</th>\n",
       "      <th>preMargin</th>\n",
       "      <th>femaleOnly</th>\n",
       "    </tr>\n",
       "  </thead>\n",
       "  <tbody>\n",
       "    <tr>\n",
       "      <th>504745</th>\n",
       "      <td>34990</td>\n",
       "      <td>18</td>\n",
       "      <td>2</td>\n",
       "      <td>14.0</td>\n",
       "      <td>2013103969</td>\n",
       "      <td>1114</td>\n",
       "      <td>356</td>\n",
       "      <td>5.0</td>\n",
       "      <td>NaN</td>\n",
       "      <td>NaN</td>\n",
       "      <td>6.0</td>\n",
       "      <td>NaN</td>\n",
       "      <td>NaN</td>\n",
       "      <td>1200.0</td>\n",
       "      <td>NaN</td>\n",
       "      <td>0.0</td>\n",
       "      <td>NaN</td>\n",
       "      <td>470.0</td>\n",
       "      <td>0.00000</td>\n",
       "      <td>348.2</td>\n",
       "      <td>NaN</td>\n",
       "      <td>NaN</td>\n",
       "      <td>セ</td>\n",
       "      <td>芝</td>\n",
       "      <td>NaN</td>\n",
       "      <td>0.071429</td>\n",
       "      <td>晴</td>\n",
       "      <td>53.0</td>\n",
       "      <td>NaN</td>\n",
       "      <td>25.000000</td>\n",
       "      <td>NaN</td>\n",
       "      <td>NaN</td>\n",
       "      <td>NaN</td>\n",
       "      <td>10.0</td>\n",
       "      <td>NaN</td>\n",
       "      <td>NaN</td>\n",
       "      <td>0.0</td>\n",
       "      <td>NaN</td>\n",
       "      <td>NaN</td>\n",
       "      <td>右</td>\n",
       "      <td>京都</td>\n",
       "      <td>18.0</td>\n",
       "      <td>NaN</td>\n",
       "      <td>NaN</td>\n",
       "      <td>NaN</td>\n",
       "      <td>NaN</td>\n",
       "      <td>0.0</td>\n",
       "    </tr>\n",
       "    <tr>\n",
       "      <th>504746</th>\n",
       "      <td>34990</td>\n",
       "      <td>11</td>\n",
       "      <td>2</td>\n",
       "      <td>15.0</td>\n",
       "      <td>2014103884</td>\n",
       "      <td>894</td>\n",
       "      <td>427</td>\n",
       "      <td>4.0</td>\n",
       "      <td>NaN</td>\n",
       "      <td>NaN</td>\n",
       "      <td>3.0</td>\n",
       "      <td>NaN</td>\n",
       "      <td>NaN</td>\n",
       "      <td>1200.0</td>\n",
       "      <td>NaN</td>\n",
       "      <td>0.0</td>\n",
       "      <td>NaN</td>\n",
       "      <td>538.0</td>\n",
       "      <td>0.00000</td>\n",
       "      <td>256.1</td>\n",
       "      <td>0.0</td>\n",
       "      <td>NaN</td>\n",
       "      <td>牡</td>\n",
       "      <td>芝</td>\n",
       "      <td>NaN</td>\n",
       "      <td>0.000000</td>\n",
       "      <td>晴</td>\n",
       "      <td>53.0</td>\n",
       "      <td>NaN</td>\n",
       "      <td>18.928571</td>\n",
       "      <td>NaN</td>\n",
       "      <td>NaN</td>\n",
       "      <td>NaN</td>\n",
       "      <td>10.0</td>\n",
       "      <td>NaN</td>\n",
       "      <td>NaN</td>\n",
       "      <td>0.0</td>\n",
       "      <td>NaN</td>\n",
       "      <td>NaN</td>\n",
       "      <td>右</td>\n",
       "      <td>京都</td>\n",
       "      <td>18.0</td>\n",
       "      <td>NaN</td>\n",
       "      <td>NaN</td>\n",
       "      <td>NaN</td>\n",
       "      <td>NaN</td>\n",
       "      <td>0.0</td>\n",
       "    </tr>\n",
       "    <tr>\n",
       "      <th>504747</th>\n",
       "      <td>34990</td>\n",
       "      <td>12</td>\n",
       "      <td>2</td>\n",
       "      <td>16.0</td>\n",
       "      <td>2015103673</td>\n",
       "      <td>1156</td>\n",
       "      <td>1028</td>\n",
       "      <td>3.0</td>\n",
       "      <td>NaN</td>\n",
       "      <td>NaN</td>\n",
       "      <td>8.0</td>\n",
       "      <td>NaN</td>\n",
       "      <td>NaN</td>\n",
       "      <td>1200.0</td>\n",
       "      <td>NaN</td>\n",
       "      <td>0.0</td>\n",
       "      <td>NaN</td>\n",
       "      <td>430.0</td>\n",
       "      <td>0.00000</td>\n",
       "      <td>22.1</td>\n",
       "      <td>0.0</td>\n",
       "      <td>NaN</td>\n",
       "      <td>牝</td>\n",
       "      <td>芝</td>\n",
       "      <td>NaN</td>\n",
       "      <td>0.066667</td>\n",
       "      <td>晴</td>\n",
       "      <td>51.0</td>\n",
       "      <td>NaN</td>\n",
       "      <td>35.111111</td>\n",
       "      <td>NaN</td>\n",
       "      <td>NaN</td>\n",
       "      <td>NaN</td>\n",
       "      <td>10.0</td>\n",
       "      <td>NaN</td>\n",
       "      <td>NaN</td>\n",
       "      <td>0.0</td>\n",
       "      <td>NaN</td>\n",
       "      <td>NaN</td>\n",
       "      <td>右</td>\n",
       "      <td>京都</td>\n",
       "      <td>18.0</td>\n",
       "      <td>NaN</td>\n",
       "      <td>NaN</td>\n",
       "      <td>NaN</td>\n",
       "      <td>NaN</td>\n",
       "      <td>0.0</td>\n",
       "    </tr>\n",
       "    <tr>\n",
       "      <th>504748</th>\n",
       "      <td>34990</td>\n",
       "      <td>4</td>\n",
       "      <td>2</td>\n",
       "      <td>17.0</td>\n",
       "      <td>2013103801</td>\n",
       "      <td>1037</td>\n",
       "      <td>1078</td>\n",
       "      <td>5.0</td>\n",
       "      <td>NaN</td>\n",
       "      <td>NaN</td>\n",
       "      <td>12.0</td>\n",
       "      <td>NaN</td>\n",
       "      <td>NaN</td>\n",
       "      <td>1200.0</td>\n",
       "      <td>NaN</td>\n",
       "      <td>0.0</td>\n",
       "      <td>NaN</td>\n",
       "      <td>488.0</td>\n",
       "      <td>0.00000</td>\n",
       "      <td>50.4</td>\n",
       "      <td>0.0</td>\n",
       "      <td>NaN</td>\n",
       "      <td>牡</td>\n",
       "      <td>芝</td>\n",
       "      <td>NaN</td>\n",
       "      <td>0.181818</td>\n",
       "      <td>晴</td>\n",
       "      <td>56.0</td>\n",
       "      <td>NaN</td>\n",
       "      <td>68.304167</td>\n",
       "      <td>NaN</td>\n",
       "      <td>NaN</td>\n",
       "      <td>NaN</td>\n",
       "      <td>10.0</td>\n",
       "      <td>NaN</td>\n",
       "      <td>NaN</td>\n",
       "      <td>0.0</td>\n",
       "      <td>NaN</td>\n",
       "      <td>NaN</td>\n",
       "      <td>右</td>\n",
       "      <td>京都</td>\n",
       "      <td>18.0</td>\n",
       "      <td>NaN</td>\n",
       "      <td>NaN</td>\n",
       "      <td>NaN</td>\n",
       "      <td>NaN</td>\n",
       "      <td>0.0</td>\n",
       "    </tr>\n",
       "    <tr>\n",
       "      <th>504749</th>\n",
       "      <td>34990</td>\n",
       "      <td>7</td>\n",
       "      <td>2</td>\n",
       "      <td>18.0</td>\n",
       "      <td>2011105974</td>\n",
       "      <td>1018</td>\n",
       "      <td>1087</td>\n",
       "      <td>7.0</td>\n",
       "      <td>NaN</td>\n",
       "      <td>NaN</td>\n",
       "      <td>4.0</td>\n",
       "      <td>NaN</td>\n",
       "      <td>NaN</td>\n",
       "      <td>1200.0</td>\n",
       "      <td>NaN</td>\n",
       "      <td>0.0</td>\n",
       "      <td>NaN</td>\n",
       "      <td>528.0</td>\n",
       "      <td>0.06383</td>\n",
       "      <td>16.8</td>\n",
       "      <td>NaN</td>\n",
       "      <td>NaN</td>\n",
       "      <td>牝</td>\n",
       "      <td>芝</td>\n",
       "      <td>NaN</td>\n",
       "      <td>0.083333</td>\n",
       "      <td>晴</td>\n",
       "      <td>53.0</td>\n",
       "      <td>NaN</td>\n",
       "      <td>112.553191</td>\n",
       "      <td>NaN</td>\n",
       "      <td>NaN</td>\n",
       "      <td>NaN</td>\n",
       "      <td>10.0</td>\n",
       "      <td>NaN</td>\n",
       "      <td>NaN</td>\n",
       "      <td>0.0</td>\n",
       "      <td>NaN</td>\n",
       "      <td>NaN</td>\n",
       "      <td>右</td>\n",
       "      <td>京都</td>\n",
       "      <td>18.0</td>\n",
       "      <td>NaN</td>\n",
       "      <td>NaN</td>\n",
       "      <td>NaN</td>\n",
       "      <td>NaN</td>\n",
       "      <td>0.0</td>\n",
       "    </tr>\n",
       "  </tbody>\n",
       "</table>\n",
       "</div>"
      ],
      "text/plain": [
       "        race_id  horse_number  grade  order_of_finish    horse_id  jockey_id  \\\n",
       "504745    34990            18      2             14.0  2013103969       1114   \n",
       "504746    34990            11      2             15.0  2014103884        894   \n",
       "504747    34990            12      2             16.0  2015103673       1156   \n",
       "504748    34990             4      2             17.0  2013103801       1037   \n",
       "504749    34990             7      2             18.0  2011105974       1018   \n",
       "\n",
       "        trainer_id  age  avgsr4  avgWin4  dhweight  disavesr  disRoc  \\\n",
       "504745         356  5.0     NaN      NaN       6.0       NaN     NaN   \n",
       "504746         427  4.0     NaN      NaN       3.0       NaN     NaN   \n",
       "504747        1028  3.0     NaN      NaN       8.0       NaN     NaN   \n",
       "504748        1078  5.0     NaN      NaN      12.0       NaN     NaN   \n",
       "504749        1087  7.0     NaN      NaN       4.0       NaN     NaN   \n",
       "\n",
       "        distance  dsl  enterTimes  eps  hweight  jwinper   odds  owinper  \\\n",
       "504745    1200.0  NaN         0.0  NaN    470.0  0.00000  348.2      NaN   \n",
       "504746    1200.0  NaN         0.0  NaN    538.0  0.00000  256.1      0.0   \n",
       "504747    1200.0  NaN         0.0  NaN    430.0  0.00000   22.1      0.0   \n",
       "504748    1200.0  NaN         0.0  NaN    488.0  0.00000   50.4      0.0   \n",
       "504749    1200.0  NaN         0.0  NaN    528.0  0.06383   16.8      NaN   \n",
       "\n",
       "        preSRa sex surface  surfaceScore   twinper weather  weight  winRun  \\\n",
       "504745     NaN   セ       芝           NaN  0.071429       晴    53.0     NaN   \n",
       "504746     NaN   牡       芝           NaN  0.000000       晴    53.0     NaN   \n",
       "504747     NaN   牝       芝           NaN  0.066667       晴    51.0     NaN   \n",
       "504748     NaN   牡       芝           NaN  0.181818       晴    56.0     NaN   \n",
       "504749     NaN   牝       芝           NaN  0.083333       晴    53.0     NaN   \n",
       "\n",
       "              jEps  jAvgWin4 preOOF pre2OOF  month  ridingStrongJockey  \\\n",
       "504745   25.000000       NaN    NaN     NaN   10.0                 NaN   \n",
       "504746   18.928571       NaN    NaN     NaN   10.0                 NaN   \n",
       "504747   35.111111       NaN    NaN     NaN   10.0                 NaN   \n",
       "504748   68.304167       NaN    NaN     NaN   10.0                 NaN   \n",
       "504749  112.553191       NaN    NaN     NaN   10.0                 NaN   \n",
       "\n",
       "        runningStyle  preLateStart  preLastPhase  lateStartPer course  \\\n",
       "504745           NaN           0.0           NaN           NaN      右   \n",
       "504746           NaN           0.0           NaN           NaN      右   \n",
       "504747           NaN           0.0           NaN           NaN      右   \n",
       "504748           NaN           0.0           NaN           NaN      右   \n",
       "504749           NaN           0.0           NaN           NaN      右   \n",
       "\n",
       "       placeCode  headCount  preHeadCount  surfaceChanged  gradeChanged  \\\n",
       "504745        京都       18.0           NaN             NaN           NaN   \n",
       "504746        京都       18.0           NaN             NaN           NaN   \n",
       "504747        京都       18.0           NaN             NaN           NaN   \n",
       "504748        京都       18.0           NaN             NaN           NaN   \n",
       "504749        京都       18.0           NaN             NaN           NaN   \n",
       "\n",
       "       preMargin  femaleOnly  \n",
       "504745       NaN         0.0  \n",
       "504746       NaN         0.0  \n",
       "504747       NaN         0.0  \n",
       "504748       NaN         0.0  \n",
       "504749       NaN         0.0  "
      ]
     },
     "execution_count": 40,
     "metadata": {},
     "output_type": "execute_result"
    }
   ],
   "source": [
    "_new_feature = pd.merge( new_race_info[['new_id', 'race_id']],new_feature,  on='race_id')\n",
    "_new_feature = _new_feature.drop('race_id',axis=1).rename(columns={'new_id':'race_id'})\n",
    "_new_feature.tail()"
   ]
  },
  {
   "cell_type": "code",
   "execution_count": null,
   "metadata": {},
   "outputs": [],
   "source": [
    "_new_feature = pd.merge( new_race_info[['new_id', 'race_id']],new_feature,  on='race_id')\n",
    "_new_feature = _new_feature.drop('race_id',axis=1).rename(columns={'new_id':'race_id'})\n",
    "_new_feature.tail()"
   ]
  },
  {
   "cell_type": "code",
   "execution_count": null,
   "metadata": {},
   "outputs": [],
   "source": []
  },
  {
   "cell_type": "code",
   "execution_count": 131,
   "metadata": {},
   "outputs": [],
   "source": [
    "new_feature.to_csv('feature.csv',index=False)\n",
    "new_payoff.to_csv('payoff.csv',index=False)\n",
    "new_race_info.to_csv('race_info.csv',index=False)\n",
    "new_race_result.to_csv('race_result.csv',index=False)"
   ]
  },
  {
   "cell_type": "code",
   "execution_count": null,
   "metadata": {},
   "outputs": [],
   "source": []
  },
  {
   "cell_type": "code",
   "execution_count": null,
   "metadata": {},
   "outputs": [],
   "source": []
  },
  {
   "cell_type": "code",
   "execution_count": null,
   "metadata": {},
   "outputs": [],
   "source": []
  },
  {
   "cell_type": "code",
   "execution_count": null,
   "metadata": {},
   "outputs": [],
   "source": []
  },
  {
   "cell_type": "code",
   "execution_count": null,
   "metadata": {},
   "outputs": [],
   "source": []
  },
  {
   "cell_type": "code",
   "execution_count": null,
   "metadata": {},
   "outputs": [],
   "source": []
  },
  {
   "cell_type": "code",
   "execution_count": null,
   "metadata": {},
   "outputs": [],
   "source": []
  },
  {
   "cell_type": "code",
   "execution_count": null,
   "metadata": {},
   "outputs": [],
   "source": []
  },
  {
   "cell_type": "code",
   "execution_count": 55,
   "metadata": {},
   "outputs": [],
   "source": [
    "def dammy(data , columns):\n",
    "    for col in columns:\n",
    "        dammy_df=pd.get_dummies(data[[col]].astype(object))\n",
    "        data=pd.concat([data, dammy_df], axis=1)\n",
    "        data=data.drop(col,axis=1)\n",
    "        del dammy_df\n",
    "        gc.collect()\n",
    "    return data"
   ]
  },
  {
   "cell_type": "code",
   "execution_count": 57,
   "metadata": {},
   "outputs": [],
   "source": [
    "columns = ['grade' , 'sex' , 'surface' , 'weather']"
   ]
  },
  {
   "cell_type": "code",
   "execution_count": 61,
   "metadata": {},
   "outputs": [],
   "source": [
    "dammied = dammy(feature , columns)"
   ]
  },
  {
   "cell_type": "code",
   "execution_count": 63,
   "metadata": {},
   "outputs": [
    {
     "data": {
      "text/html": [
       "<div>\n",
       "<style scoped>\n",
       "    .dataframe tbody tr th:only-of-type {\n",
       "        vertical-align: middle;\n",
       "    }\n",
       "\n",
       "    .dataframe tbody tr th {\n",
       "        vertical-align: top;\n",
       "    }\n",
       "\n",
       "    .dataframe thead th {\n",
       "        text-align: right;\n",
       "    }\n",
       "</style>\n",
       "<table border=\"1\" class=\"dataframe\">\n",
       "  <thead>\n",
       "    <tr style=\"text-align: right;\">\n",
       "      <th></th>\n",
       "      <th>race_id</th>\n",
       "      <th>horse_number</th>\n",
       "      <th>order_of_finish</th>\n",
       "      <th>horse_id</th>\n",
       "      <th>jockey_id</th>\n",
       "      <th>trainer_id</th>\n",
       "      <th>age</th>\n",
       "      <th>avgsr4</th>\n",
       "      <th>avgWin4</th>\n",
       "      <th>dhweight</th>\n",
       "      <th>disavesr</th>\n",
       "      <th>disRoc</th>\n",
       "      <th>distance</th>\n",
       "      <th>dsl</th>\n",
       "      <th>enterTimes</th>\n",
       "      <th>eps</th>\n",
       "      <th>hweight</th>\n",
       "      <th>jwinper</th>\n",
       "      <th>odds</th>\n",
       "      <th>owinper</th>\n",
       "      <th>preSRa</th>\n",
       "      <th>surfaceScore</th>\n",
       "      <th>twinper</th>\n",
       "      <th>weight</th>\n",
       "      <th>winRun</th>\n",
       "      <th>jEps</th>\n",
       "      <th>jAvgWin4</th>\n",
       "      <th>preOOF</th>\n",
       "      <th>pre2OOF</th>\n",
       "      <th>month</th>\n",
       "      <th>ridingStrongJockey</th>\n",
       "      <th>runningStyle</th>\n",
       "      <th>preLateStart</th>\n",
       "      <th>preLastPhase</th>\n",
       "      <th>lateStartPer</th>\n",
       "      <th>course</th>\n",
       "      <th>placeCode</th>\n",
       "      <th>headCount</th>\n",
       "      <th>preHeadCount</th>\n",
       "      <th>surfaceChanged</th>\n",
       "      <th>gradeChanged</th>\n",
       "      <th>preMargin</th>\n",
       "      <th>femaleOnly</th>\n",
       "      <th>grade_0</th>\n",
       "      <th>grade_1</th>\n",
       "      <th>grade_2</th>\n",
       "      <th>grade_3</th>\n",
       "      <th>grade_4</th>\n",
       "      <th>grade_5</th>\n",
       "      <th>sex_セ</th>\n",
       "      <th>sex_牝</th>\n",
       "      <th>sex_牡</th>\n",
       "      <th>surface_ダ</th>\n",
       "      <th>surface_芝</th>\n",
       "      <th>weather_他</th>\n",
       "      <th>weather_小雨</th>\n",
       "      <th>weather_晴</th>\n",
       "      <th>weather_曇</th>\n",
       "      <th>weather_雨</th>\n",
       "      <th>weather_雪</th>\n",
       "    </tr>\n",
       "  </thead>\n",
       "  <tbody>\n",
       "    <tr>\n",
       "      <th>0</th>\n",
       "      <td>1</td>\n",
       "      <td>9</td>\n",
       "      <td>1.0</td>\n",
       "      <td>2006105662</td>\n",
       "      <td>1102</td>\n",
       "      <td>353</td>\n",
       "      <td>2.0</td>\n",
       "      <td>NaN</td>\n",
       "      <td>NaN</td>\n",
       "      <td>4.0</td>\n",
       "      <td>NaN</td>\n",
       "      <td>NaN</td>\n",
       "      <td>1200.0</td>\n",
       "      <td>NaN</td>\n",
       "      <td>0.0</td>\n",
       "      <td>NaN</td>\n",
       "      <td>452.0</td>\n",
       "      <td>NaN</td>\n",
       "      <td>7.0</td>\n",
       "      <td>NaN</td>\n",
       "      <td>NaN</td>\n",
       "      <td>NaN</td>\n",
       "      <td>NaN</td>\n",
       "      <td>54.0</td>\n",
       "      <td>NaN</td>\n",
       "      <td>NaN</td>\n",
       "      <td>NaN</td>\n",
       "      <td>NaN</td>\n",
       "      <td>NaN</td>\n",
       "      <td>11.0</td>\n",
       "      <td>NaN</td>\n",
       "      <td>NaN</td>\n",
       "      <td>0.0</td>\n",
       "      <td>NaN</td>\n",
       "      <td>NaN</td>\n",
       "      <td>右</td>\n",
       "      <td>福島</td>\n",
       "      <td>16.0</td>\n",
       "      <td>NaN</td>\n",
       "      <td>NaN</td>\n",
       "      <td>NaN</td>\n",
       "      <td>NaN</td>\n",
       "      <td>1.0</td>\n",
       "      <td>0</td>\n",
       "      <td>0</td>\n",
       "      <td>0</td>\n",
       "      <td>0</td>\n",
       "      <td>1</td>\n",
       "      <td>0</td>\n",
       "      <td>0</td>\n",
       "      <td>1</td>\n",
       "      <td>0</td>\n",
       "      <td>0</td>\n",
       "      <td>1</td>\n",
       "      <td>0</td>\n",
       "      <td>0</td>\n",
       "      <td>1</td>\n",
       "      <td>0</td>\n",
       "      <td>0</td>\n",
       "      <td>0</td>\n",
       "    </tr>\n",
       "    <tr>\n",
       "      <th>1</th>\n",
       "      <td>1</td>\n",
       "      <td>11</td>\n",
       "      <td>2.0</td>\n",
       "      <td>2006105747</td>\n",
       "      <td>635</td>\n",
       "      <td>429</td>\n",
       "      <td>2.0</td>\n",
       "      <td>NaN</td>\n",
       "      <td>NaN</td>\n",
       "      <td>0.0</td>\n",
       "      <td>NaN</td>\n",
       "      <td>NaN</td>\n",
       "      <td>1200.0</td>\n",
       "      <td>NaN</td>\n",
       "      <td>0.0</td>\n",
       "      <td>NaN</td>\n",
       "      <td>440.0</td>\n",
       "      <td>NaN</td>\n",
       "      <td>4.1</td>\n",
       "      <td>NaN</td>\n",
       "      <td>NaN</td>\n",
       "      <td>NaN</td>\n",
       "      <td>NaN</td>\n",
       "      <td>54.0</td>\n",
       "      <td>NaN</td>\n",
       "      <td>NaN</td>\n",
       "      <td>NaN</td>\n",
       "      <td>NaN</td>\n",
       "      <td>NaN</td>\n",
       "      <td>11.0</td>\n",
       "      <td>NaN</td>\n",
       "      <td>NaN</td>\n",
       "      <td>0.0</td>\n",
       "      <td>NaN</td>\n",
       "      <td>NaN</td>\n",
       "      <td>右</td>\n",
       "      <td>福島</td>\n",
       "      <td>16.0</td>\n",
       "      <td>NaN</td>\n",
       "      <td>NaN</td>\n",
       "      <td>NaN</td>\n",
       "      <td>NaN</td>\n",
       "      <td>1.0</td>\n",
       "      <td>0</td>\n",
       "      <td>0</td>\n",
       "      <td>0</td>\n",
       "      <td>0</td>\n",
       "      <td>1</td>\n",
       "      <td>0</td>\n",
       "      <td>0</td>\n",
       "      <td>1</td>\n",
       "      <td>0</td>\n",
       "      <td>0</td>\n",
       "      <td>1</td>\n",
       "      <td>0</td>\n",
       "      <td>0</td>\n",
       "      <td>1</td>\n",
       "      <td>0</td>\n",
       "      <td>0</td>\n",
       "      <td>0</td>\n",
       "    </tr>\n",
       "    <tr>\n",
       "      <th>2</th>\n",
       "      <td>1</td>\n",
       "      <td>1</td>\n",
       "      <td>3.0</td>\n",
       "      <td>2006102910</td>\n",
       "      <td>1122</td>\n",
       "      <td>1076</td>\n",
       "      <td>2.0</td>\n",
       "      <td>NaN</td>\n",
       "      <td>NaN</td>\n",
       "      <td>-6.0</td>\n",
       "      <td>NaN</td>\n",
       "      <td>NaN</td>\n",
       "      <td>1200.0</td>\n",
       "      <td>NaN</td>\n",
       "      <td>0.0</td>\n",
       "      <td>NaN</td>\n",
       "      <td>428.0</td>\n",
       "      <td>NaN</td>\n",
       "      <td>2.4</td>\n",
       "      <td>NaN</td>\n",
       "      <td>NaN</td>\n",
       "      <td>NaN</td>\n",
       "      <td>NaN</td>\n",
       "      <td>53.0</td>\n",
       "      <td>NaN</td>\n",
       "      <td>NaN</td>\n",
       "      <td>NaN</td>\n",
       "      <td>NaN</td>\n",
       "      <td>NaN</td>\n",
       "      <td>11.0</td>\n",
       "      <td>NaN</td>\n",
       "      <td>NaN</td>\n",
       "      <td>0.0</td>\n",
       "      <td>NaN</td>\n",
       "      <td>NaN</td>\n",
       "      <td>右</td>\n",
       "      <td>福島</td>\n",
       "      <td>16.0</td>\n",
       "      <td>NaN</td>\n",
       "      <td>NaN</td>\n",
       "      <td>NaN</td>\n",
       "      <td>NaN</td>\n",
       "      <td>1.0</td>\n",
       "      <td>0</td>\n",
       "      <td>0</td>\n",
       "      <td>0</td>\n",
       "      <td>0</td>\n",
       "      <td>1</td>\n",
       "      <td>0</td>\n",
       "      <td>0</td>\n",
       "      <td>1</td>\n",
       "      <td>0</td>\n",
       "      <td>0</td>\n",
       "      <td>1</td>\n",
       "      <td>0</td>\n",
       "      <td>0</td>\n",
       "      <td>1</td>\n",
       "      <td>0</td>\n",
       "      <td>0</td>\n",
       "      <td>0</td>\n",
       "    </tr>\n",
       "    <tr>\n",
       "      <th>3</th>\n",
       "      <td>1</td>\n",
       "      <td>7</td>\n",
       "      <td>4.0</td>\n",
       "      <td>2006100792</td>\n",
       "      <td>679</td>\n",
       "      <td>106</td>\n",
       "      <td>2.0</td>\n",
       "      <td>NaN</td>\n",
       "      <td>NaN</td>\n",
       "      <td>-10.0</td>\n",
       "      <td>NaN</td>\n",
       "      <td>NaN</td>\n",
       "      <td>1200.0</td>\n",
       "      <td>NaN</td>\n",
       "      <td>0.0</td>\n",
       "      <td>NaN</td>\n",
       "      <td>460.0</td>\n",
       "      <td>NaN</td>\n",
       "      <td>9.7</td>\n",
       "      <td>NaN</td>\n",
       "      <td>NaN</td>\n",
       "      <td>NaN</td>\n",
       "      <td>NaN</td>\n",
       "      <td>54.0</td>\n",
       "      <td>NaN</td>\n",
       "      <td>NaN</td>\n",
       "      <td>NaN</td>\n",
       "      <td>NaN</td>\n",
       "      <td>NaN</td>\n",
       "      <td>11.0</td>\n",
       "      <td>NaN</td>\n",
       "      <td>NaN</td>\n",
       "      <td>0.0</td>\n",
       "      <td>NaN</td>\n",
       "      <td>NaN</td>\n",
       "      <td>右</td>\n",
       "      <td>福島</td>\n",
       "      <td>16.0</td>\n",
       "      <td>NaN</td>\n",
       "      <td>NaN</td>\n",
       "      <td>NaN</td>\n",
       "      <td>NaN</td>\n",
       "      <td>1.0</td>\n",
       "      <td>0</td>\n",
       "      <td>0</td>\n",
       "      <td>0</td>\n",
       "      <td>0</td>\n",
       "      <td>1</td>\n",
       "      <td>0</td>\n",
       "      <td>0</td>\n",
       "      <td>1</td>\n",
       "      <td>0</td>\n",
       "      <td>0</td>\n",
       "      <td>1</td>\n",
       "      <td>0</td>\n",
       "      <td>0</td>\n",
       "      <td>1</td>\n",
       "      <td>0</td>\n",
       "      <td>0</td>\n",
       "      <td>0</td>\n",
       "    </tr>\n",
       "    <tr>\n",
       "      <th>4</th>\n",
       "      <td>1</td>\n",
       "      <td>14</td>\n",
       "      <td>5.0</td>\n",
       "      <td>2006102658</td>\n",
       "      <td>1117</td>\n",
       "      <td>1067</td>\n",
       "      <td>2.0</td>\n",
       "      <td>NaN</td>\n",
       "      <td>NaN</td>\n",
       "      <td>0.0</td>\n",
       "      <td>NaN</td>\n",
       "      <td>NaN</td>\n",
       "      <td>1200.0</td>\n",
       "      <td>NaN</td>\n",
       "      <td>0.0</td>\n",
       "      <td>NaN</td>\n",
       "      <td>420.0</td>\n",
       "      <td>NaN</td>\n",
       "      <td>5.6</td>\n",
       "      <td>NaN</td>\n",
       "      <td>NaN</td>\n",
       "      <td>NaN</td>\n",
       "      <td>NaN</td>\n",
       "      <td>51.0</td>\n",
       "      <td>NaN</td>\n",
       "      <td>NaN</td>\n",
       "      <td>NaN</td>\n",
       "      <td>NaN</td>\n",
       "      <td>NaN</td>\n",
       "      <td>11.0</td>\n",
       "      <td>NaN</td>\n",
       "      <td>NaN</td>\n",
       "      <td>0.0</td>\n",
       "      <td>NaN</td>\n",
       "      <td>NaN</td>\n",
       "      <td>右</td>\n",
       "      <td>福島</td>\n",
       "      <td>16.0</td>\n",
       "      <td>NaN</td>\n",
       "      <td>NaN</td>\n",
       "      <td>NaN</td>\n",
       "      <td>NaN</td>\n",
       "      <td>1.0</td>\n",
       "      <td>0</td>\n",
       "      <td>0</td>\n",
       "      <td>0</td>\n",
       "      <td>0</td>\n",
       "      <td>1</td>\n",
       "      <td>0</td>\n",
       "      <td>0</td>\n",
       "      <td>1</td>\n",
       "      <td>0</td>\n",
       "      <td>0</td>\n",
       "      <td>1</td>\n",
       "      <td>0</td>\n",
       "      <td>0</td>\n",
       "      <td>1</td>\n",
       "      <td>0</td>\n",
       "      <td>0</td>\n",
       "      <td>0</td>\n",
       "    </tr>\n",
       "  </tbody>\n",
       "</table>\n",
       "</div>"
      ],
      "text/plain": [
       "   race_id  horse_number  order_of_finish    horse_id  jockey_id  trainer_id  \\\n",
       "0        1             9              1.0  2006105662       1102         353   \n",
       "1        1            11              2.0  2006105747        635         429   \n",
       "2        1             1              3.0  2006102910       1122        1076   \n",
       "3        1             7              4.0  2006100792        679         106   \n",
       "4        1            14              5.0  2006102658       1117        1067   \n",
       "\n",
       "   age  avgsr4  avgWin4  dhweight  disavesr  disRoc  distance  dsl  \\\n",
       "0  2.0     NaN      NaN       4.0       NaN     NaN    1200.0  NaN   \n",
       "1  2.0     NaN      NaN       0.0       NaN     NaN    1200.0  NaN   \n",
       "2  2.0     NaN      NaN      -6.0       NaN     NaN    1200.0  NaN   \n",
       "3  2.0     NaN      NaN     -10.0       NaN     NaN    1200.0  NaN   \n",
       "4  2.0     NaN      NaN       0.0       NaN     NaN    1200.0  NaN   \n",
       "\n",
       "   enterTimes  eps  hweight  jwinper  odds  owinper  preSRa  surfaceScore  \\\n",
       "0         0.0  NaN    452.0      NaN   7.0      NaN     NaN           NaN   \n",
       "1         0.0  NaN    440.0      NaN   4.1      NaN     NaN           NaN   \n",
       "2         0.0  NaN    428.0      NaN   2.4      NaN     NaN           NaN   \n",
       "3         0.0  NaN    460.0      NaN   9.7      NaN     NaN           NaN   \n",
       "4         0.0  NaN    420.0      NaN   5.6      NaN     NaN           NaN   \n",
       "\n",
       "   twinper  weight  winRun  jEps  jAvgWin4 preOOF pre2OOF  month  \\\n",
       "0      NaN    54.0     NaN   NaN       NaN    NaN     NaN   11.0   \n",
       "1      NaN    54.0     NaN   NaN       NaN    NaN     NaN   11.0   \n",
       "2      NaN    53.0     NaN   NaN       NaN    NaN     NaN   11.0   \n",
       "3      NaN    54.0     NaN   NaN       NaN    NaN     NaN   11.0   \n",
       "4      NaN    51.0     NaN   NaN       NaN    NaN     NaN   11.0   \n",
       "\n",
       "   ridingStrongJockey  runningStyle  preLateStart  preLastPhase  lateStartPer  \\\n",
       "0                 NaN           NaN           0.0           NaN           NaN   \n",
       "1                 NaN           NaN           0.0           NaN           NaN   \n",
       "2                 NaN           NaN           0.0           NaN           NaN   \n",
       "3                 NaN           NaN           0.0           NaN           NaN   \n",
       "4                 NaN           NaN           0.0           NaN           NaN   \n",
       "\n",
       "  course placeCode  headCount  preHeadCount  surfaceChanged  gradeChanged  \\\n",
       "0      右        福島       16.0           NaN             NaN           NaN   \n",
       "1      右        福島       16.0           NaN             NaN           NaN   \n",
       "2      右        福島       16.0           NaN             NaN           NaN   \n",
       "3      右        福島       16.0           NaN             NaN           NaN   \n",
       "4      右        福島       16.0           NaN             NaN           NaN   \n",
       "\n",
       "  preMargin  femaleOnly  grade_0  grade_1  grade_2  grade_3  grade_4  grade_5  \\\n",
       "0       NaN         1.0        0        0        0        0        1        0   \n",
       "1       NaN         1.0        0        0        0        0        1        0   \n",
       "2       NaN         1.0        0        0        0        0        1        0   \n",
       "3       NaN         1.0        0        0        0        0        1        0   \n",
       "4       NaN         1.0        0        0        0        0        1        0   \n",
       "\n",
       "   sex_セ  sex_牝  sex_牡  surface_ダ  surface_芝  weather_他  weather_小雨  \\\n",
       "0      0      1      0          0          1          0           0   \n",
       "1      0      1      0          0          1          0           0   \n",
       "2      0      1      0          0          1          0           0   \n",
       "3      0      1      0          0          1          0           0   \n",
       "4      0      1      0          0          1          0           0   \n",
       "\n",
       "   weather_晴  weather_曇  weather_雨  weather_雪  \n",
       "0          1          0          0          0  \n",
       "1          1          0          0          0  \n",
       "2          1          0          0          0  \n",
       "3          1          0          0          0  \n",
       "4          1          0          0          0  "
      ]
     },
     "execution_count": 63,
     "metadata": {},
     "output_type": "execute_result"
    }
   ],
   "source": [
    "dammied.head()"
   ]
  },
  {
   "cell_type": "code",
   "execution_count": 75,
   "metadata": {},
   "outputs": [],
   "source": [
    "feature.at[497179,'age'] = 2"
   ]
  },
  {
   "cell_type": "code",
   "execution_count": 69,
   "metadata": {},
   "outputs": [
    {
     "name": "stdout",
     "output_type": "stream",
     "text": [
      "497179\n",
      "497180\n",
      "497181\n",
      "497182\n",
      "497183\n",
      "497184\n",
      "497185\n",
      "497186\n",
      "497187\n",
      "497188\n",
      "497189\n",
      "497190\n",
      "497191\n",
      "497192\n"
     ]
    }
   ],
   "source": [
    "race_id = 34438\n",
    "eachRace = feature[feature['race_id']==race_id].reset_index()\n",
    "for n in range(len(eachRace)) :\n",
    "    idx = eachRace.loc[n,'index']\n",
    "    print(idx)"
   ]
  },
  {
   "cell_type": "code",
   "execution_count": 50,
   "metadata": {},
   "outputs": [
    {
     "name": "stdout",
     "output_type": "stream",
     "text": [
      "race_id :::: <class 'numpy.int64'>\n",
      "order_of_finish :::: <class 'str'>\n",
      "frame_number :::: <class 'numpy.int64'>\n",
      "horse_number :::: <class 'numpy.int64'>\n",
      "horse_id :::: <class 'numpy.int64'>\n",
      "sex :::: <class 'str'>\n",
      "age :::: <class 'numpy.int64'>\n",
      "basis_weight :::: <class 'numpy.float64'>\n",
      "jockey_id :::: <class 'numpy.int64'>\n",
      "finishing_time :::: <class 'str'>\n",
      "length :::: <class 'float'>\n",
      "speed_figure :::: <class 'numpy.float64'>\n",
      "pass :::: <class 'str'>\n",
      "last_phase :::: <class 'numpy.float64'>\n",
      "odds :::: <class 'numpy.float64'>\n",
      "popularity :::: <class 'numpy.float64'>\n",
      "horse_weight :::: <class 'str'>\n",
      "remark :::: <class 'float'>\n",
      "stable :::: <class 'str'>\n",
      "trainer_id :::: <class 'numpy.int64'>\n",
      "owner_id :::: <class 'int'>\n",
      "earning_money :::: <class 'numpy.float64'>\n"
     ]
    }
   ],
   "source": [
    "for col in list(race_result.columns):\n",
    "    print(col ,'::::',  type(race_result[col].values[0]))"
   ]
  },
  {
   "cell_type": "code",
   "execution_count": 49,
   "metadata": {},
   "outputs": [
    {
     "name": "stdout",
     "output_type": "stream",
     "text": [
      "id :::: <class 'numpy.int64'>\n",
      "race_name :::: <class 'str'>\n",
      "surface :::: <class 'str'>\n",
      "distance :::: <class 'numpy.int64'>\n",
      "weather :::: <class 'str'>\n",
      "surface_state :::: <class 'str'>\n",
      "race_start :::: <class 'str'>\n",
      "race_number :::: <class 'numpy.int64'>\n",
      "surface_score :::: <class 'numpy.float64'>\n",
      "date :::: <class 'str'>\n",
      "place_detail :::: <class 'str'>\n",
      "race_class :::: <class 'str'>\n"
     ]
    }
   ],
   "source": [
    "for col in list(race_info.columns):\n",
    "    print(col ,'::::',  type(race_info[col].values[0]))"
   ]
  },
  {
   "cell_type": "code",
   "execution_count": 48,
   "metadata": {},
   "outputs": [
    {
     "name": "stdout",
     "output_type": "stream",
     "text": [
      "race_id :::: <class 'numpy.int64'>\n",
      "horse_number :::: <class 'numpy.int64'>\n",
      "grade :::: <class 'numpy.int64'>\n",
      "order_of_finish :::: <class 'numpy.float64'>\n",
      "horse_id :::: <class 'numpy.int64'>\n",
      "jockey_id :::: <class 'numpy.int64'>\n",
      "trainer_id :::: <class 'numpy.int64'>\n",
      "age :::: <class 'numpy.float64'>\n",
      "avgsr4 :::: <class 'numpy.float64'>\n",
      "avgWin4 :::: <class 'numpy.float64'>\n",
      "dhweight :::: <class 'numpy.float64'>\n",
      "disavesr :::: <class 'numpy.float64'>\n",
      "disRoc :::: <class 'numpy.float64'>\n",
      "distance :::: <class 'numpy.float64'>\n",
      "dsl :::: <class 'numpy.float64'>\n",
      "enterTimes :::: <class 'numpy.float64'>\n",
      "eps :::: <class 'numpy.float64'>\n",
      "hweight :::: <class 'numpy.float64'>\n",
      "jwinper :::: <class 'numpy.float64'>\n",
      "odds :::: <class 'numpy.float64'>\n",
      "owinper :::: <class 'numpy.float64'>\n",
      "preSRa :::: <class 'numpy.float64'>\n",
      "sex :::: <class 'str'>\n",
      "surface :::: <class 'str'>\n",
      "surfaceScore :::: <class 'numpy.float64'>\n",
      "twinper :::: <class 'numpy.float64'>\n",
      "weather :::: <class 'str'>\n",
      "weight :::: <class 'numpy.float64'>\n",
      "winRun :::: <class 'numpy.float64'>\n",
      "jEps :::: <class 'numpy.float64'>\n",
      "jAvgWin4 :::: <class 'numpy.float64'>\n",
      "preOOF :::: <class 'float'>\n",
      "pre2OOF :::: <class 'float'>\n",
      "month :::: <class 'numpy.float64'>\n",
      "ridingStrongJockey :::: <class 'numpy.float64'>\n",
      "runningStyle :::: <class 'numpy.float64'>\n",
      "preLateStart :::: <class 'numpy.float64'>\n",
      "preLastPhase :::: <class 'numpy.float64'>\n",
      "lateStartPer :::: <class 'numpy.float64'>\n",
      "course :::: <class 'str'>\n",
      "placeCode :::: <class 'str'>\n",
      "headCount :::: <class 'numpy.float64'>\n",
      "preHeadCount :::: <class 'numpy.float64'>\n",
      "surfaceChanged :::: <class 'numpy.float64'>\n",
      "gradeChanged :::: <class 'numpy.float64'>\n",
      "preMargin :::: <class 'float'>\n",
      "femaleOnly :::: <class 'numpy.float64'>\n"
     ]
    }
   ],
   "source": [
    "for col in list(feature.columns):\n",
    "    print(col ,'::::',  type(feature[col].values[0]))"
   ]
  },
  {
   "cell_type": "code",
   "execution_count": 4,
   "metadata": {},
   "outputs": [],
   "source": [
    "input_data = pd.read_csv('/Users/wasedafuuta/Desktop/keiba/netkeiba_data/data10year/inputdata.csv')"
   ]
  },
  {
   "cell_type": "code",
   "execution_count": 42,
   "metadata": {},
   "outputs": [
    {
     "data": {
      "text/plain": [
       "'2'"
      ]
     },
     "execution_count": 42,
     "metadata": {},
     "output_type": "execute_result"
    }
   ],
   "source": [
    "input_data['preOOF'][10000]"
   ]
  },
  {
   "cell_type": "code",
   "execution_count": 6,
   "metadata": {},
   "outputs": [
    {
     "data": {
      "text/plain": [
       "array(['晴', '曇', '小雨', '雨', '他', '雪'], dtype=object)"
      ]
     },
     "execution_count": 6,
     "metadata": {},
     "output_type": "execute_result"
    }
   ],
   "source": [
    "feature.weather.unique()"
   ]
  },
  {
   "cell_type": "code",
   "execution_count": 7,
   "metadata": {},
   "outputs": [
    {
     "data": {
      "text/plain": [
       "array(['牝', '牡', 'セ'], dtype=object)"
      ]
     },
     "execution_count": 7,
     "metadata": {},
     "output_type": "execute_result"
    }
   ],
   "source": [
    "feature.sex.unique()"
   ]
  },
  {
   "cell_type": "code",
   "execution_count": 8,
   "metadata": {},
   "outputs": [
    {
     "data": {
      "text/plain": [
       "array(['芝', 'ダ'], dtype=object)"
      ]
     },
     "execution_count": 8,
     "metadata": {},
     "output_type": "execute_result"
    }
   ],
   "source": [
    "feature.surface.unique()"
   ]
  },
  {
   "cell_type": "code",
   "execution_count": 9,
   "metadata": {},
   "outputs": [
    {
     "data": {
      "text/plain": [
       "array(['右', '左', '他', '直線', '外'], dtype=object)"
      ]
     },
     "execution_count": 9,
     "metadata": {},
     "output_type": "execute_result"
    }
   ],
   "source": [
    "feature.course.unique()"
   ]
  },
  {
   "cell_type": "code",
   "execution_count": 10,
   "metadata": {},
   "outputs": [
    {
     "data": {
      "text/plain": [
       "東京    76834\n",
       "京都    76620\n",
       "中山    69764\n",
       "阪神    69536\n",
       "新潟    49266\n",
       "小倉    41229\n",
       "中京    39719\n",
       "福島    35060\n",
       "札幌    20139\n",
       "函館    19042\n",
       "Name: placeCode, dtype: int64"
      ]
     },
     "execution_count": 10,
     "metadata": {},
     "output_type": "execute_result"
    }
   ],
   "source": [
    "feature.placeCode.value_counts()"
   ]
  },
  {
   "cell_type": "code",
   "execution_count": 11,
   "metadata": {},
   "outputs": [
    {
     "data": {
      "text/plain": [
       "array(['福島', '東京', '中山', '中京', '京都', '阪神', '札幌', '新潟', '小倉', '函館'],\n",
       "      dtype=object)"
      ]
     },
     "execution_count": 11,
     "metadata": {},
     "output_type": "execute_result"
    }
   ],
   "source": [
    "feature.placeCode.unique()"
   ]
  },
  {
   "cell_type": "code",
   "execution_count": 12,
   "metadata": {},
   "outputs": [
    {
     "data": {
      "text/plain": [
       "0.0    379868\n",
       "1.0     65026\n",
       "Name: surfaceChanged, dtype: int64"
      ]
     },
     "execution_count": 12,
     "metadata": {},
     "output_type": "execute_result"
    }
   ],
   "source": [
    "feature.surfaceChanged.value_counts()"
   ]
  },
  {
   "cell_type": "code",
   "execution_count": 13,
   "metadata": {},
   "outputs": [
    {
     "data": {
      "text/plain": [
       "他      310363\n",
       "クビ      81625\n",
       "ハナ      33554\n",
       "アタマ     19352\n",
       "Name: preMargin, dtype: int64"
      ]
     },
     "execution_count": 13,
     "metadata": {},
     "output_type": "execute_result"
    }
   ],
   "source": [
    "feature.preMargin.value_counts()"
   ]
  },
  {
   "cell_type": "code",
   "execution_count": 14,
   "metadata": {},
   "outputs": [
    {
     "data": {
      "text/plain": [
       "array([1., 0.])"
      ]
     },
     "execution_count": 14,
     "metadata": {},
     "output_type": "execute_result"
    }
   ],
   "source": [
    "feature.femaleOnly.unique()"
   ]
  },
  {
   "cell_type": "code",
   "execution_count": 15,
   "metadata": {},
   "outputs": [
    {
     "data": {
      "text/plain": [
       "array(['芝右', 'ダ右', 'ダ左', '芝左', '障芝ダート', '障芝', '芝右外', '芝右内2周', '芝左外',\n",
       "       '芝直線', '障芝外-内', '障芝外', '障芝左', '障芝内-外'], dtype=object)"
      ]
     },
     "execution_count": 15,
     "metadata": {},
     "output_type": "execute_result"
    }
   ],
   "source": [
    "race_info.surface.unique()"
   ]
  },
  {
   "cell_type": "code",
   "execution_count": 16,
   "metadata": {},
   "outputs": [
    {
     "data": {
      "text/plain": [
       "array(['芝 : 良', 'ダート : 良', 'ダート : 稍重', '芝 : 稍重', '芝 : 良ダート : 良',\n",
       "       'ダート : 重', '芝 : 稍重ダート : 重', '芝 : 良ダート : 稍重', '芝 : 良ダート : 重',\n",
       "       '芝 : 稍重ダート : 稍重', 'ダート : 不良', '芝 : 重', '芝 : 不良', '芝 : 不良ダート : 不良',\n",
       "       '芝 : 重ダート : 不良', '芝 : 重ダート : 重', '芝 : 稍重ダート : 不良'], dtype=object)"
      ]
     },
     "execution_count": 16,
     "metadata": {},
     "output_type": "execute_result"
    }
   ],
   "source": [
    "race_info.surface_state.unique()"
   ]
  },
  {
   "cell_type": "code",
   "execution_count": null,
   "metadata": {},
   "outputs": [],
   "source": [
    "data = feature\n",
    "\n",
    "race_result=race_result.drop({'order_of_finish','horse_number','sex','age','jockey_id','odds','remark','trainer_id','owner_id','horse_weight'},axis=1)\n",
    "data = pd.merge(data, race_result, on=['race_id', 'horse_id'],how='left')\n",
    "\n",
    "race_info=race_info.drop({'race_name','surface','distance','weather','surface_state','place_detail','race_class'},axis=1)\n",
    "data=pd.merge(data, race_info , on='race_id' , how='left')\n",
    "\n",
    "data=data.drop({'avgsr4','avgWin4','disavesr','dsl','surfaceScore','jAvgWin4'},axis=1)"
   ]
  },
  {
   "cell_type": "code",
   "execution_count": null,
   "metadata": {},
   "outputs": [],
   "source": [
    "data.head(1)"
   ]
  },
  {
   "cell_type": "code",
   "execution_count": null,
   "metadata": {},
   "outputs": [],
   "source": []
  },
  {
   "cell_type": "code",
   "execution_count": null,
   "metadata": {},
   "outputs": [],
   "source": []
  },
  {
   "cell_type": "code",
   "execution_count": null,
   "metadata": {},
   "outputs": [],
   "source": [
    "def pre_pre2_RunStyle(race_id, horse_id):\n",
    "    eachHorse=data[data['horse_id']==horse_id].sort_values('date')\n",
    "    eachHorse=eachHorse.reset_index()\n",
    "    n = eachHorse[eachHorse['race_id']==race_id].index[0]\n",
    "    if n==0 :\n",
    "        return np.nan, np.nan\n",
    "    elif n==1:\n",
    "        return eachHorse.at[n-1, 'runningStyle'], np.nan\n",
    "    else:\n",
    "        return eachHorse.at[n-1, 'runningStyle'], eachHorse.at[n-2, 'runningStyle']"
   ]
  },
  {
   "cell_type": "code",
   "execution_count": null,
   "metadata": {},
   "outputs": [],
   "source": [
    "PreRunStyle(5673,2011105000)"
   ]
  },
  {
   "cell_type": "code",
   "execution_count": null,
   "metadata": {},
   "outputs": [],
   "source": [
    "for n in range(len(data)):\n",
    "    n_race_id=data['race_id'].loc[n]\n",
    "    n_horse_id=data['horse_id'].loc[n]\n",
    "    pre , pre2 = pre_pre2_RunStyle(n_race_id, n_horse_id)\n",
    "    data.at[n,'preRunningStyle'] = pre\n",
    "    data.at[n,'pre2RunningStyle'] = pre2\n",
    "    "
   ]
  },
  {
   "cell_type": "code",
   "execution_count": null,
   "metadata": {
    "scrolled": true
   },
   "outputs": [],
   "source": [
    "data[['runningStyle','preRunningStyle','pre2RunningStyle']]"
   ]
  },
  {
   "cell_type": "code",
   "execution_count": null,
   "metadata": {},
   "outputs": [],
   "source": []
  },
  {
   "cell_type": "code",
   "execution_count": null,
   "metadata": {},
   "outputs": [],
   "source": [
    "eachHorse=data[data['horse_id']==2011105000].sort_values('date').reset_index()"
   ]
  },
  {
   "cell_type": "code",
   "execution_count": null,
   "metadata": {},
   "outputs": [],
   "source": [
    "eachHorse=eachHorse.reset_index()"
   ]
  },
  {
   "cell_type": "code",
   "execution_count": null,
   "metadata": {
    "scrolled": true
   },
   "outputs": [],
   "source": [
    "eachHorse\n"
   ]
  },
  {
   "cell_type": "code",
   "execution_count": null,
   "metadata": {},
   "outputs": [],
   "source": [
    "eachHorse.loc[4,'index'] "
   ]
  },
  {
   "cell_type": "code",
   "execution_count": null,
   "metadata": {},
   "outputs": [],
   "source": [
    "eachHorse.loc[5,'index']"
   ]
  },
  {
   "cell_type": "code",
   "execution_count": null,
   "metadata": {},
   "outputs": [],
   "source": [
    "eachHorse.loc[5,'order_of_finish']"
   ]
  },
  {
   "cell_type": "code",
   "execution_count": null,
   "metadata": {},
   "outputs": [],
   "source": []
  },
  {
   "cell_type": "code",
   "execution_count": null,
   "metadata": {},
   "outputs": [],
   "source": [
    "\n",
    "if int(eachHorse.loc[5,'order_of_finish'])==2:\n",
    "    data.at[74553, 'order_was_2'] =data.at[85566,'order_was_2'] + 1\n",
    "    data.at[74553, 'order_was_3'] =  data.at[85566, 'order_was_3']"
   ]
  },
  {
   "cell_type": "code",
   "execution_count": null,
   "metadata": {},
   "outputs": [],
   "source": [
    "data[74553:74554]"
   ]
  },
  {
   "cell_type": "code",
   "execution_count": null,
   "metadata": {},
   "outputs": [],
   "source": [
    "len(eachHorse)"
   ]
  },
  {
   "cell_type": "code",
   "execution_count": null,
   "metadata": {},
   "outputs": [],
   "source": [
    "eachHorse.loc[0,'index']"
   ]
  },
  {
   "cell_type": "code",
   "execution_count": null,
   "metadata": {},
   "outputs": [],
   "source": [
    "data.horse_id.unique()"
   ]
  },
  {
   "cell_type": "code",
   "execution_count": null,
   "metadata": {},
   "outputs": [],
   "source": [
    "data[data['race_id']==1160][data['horse_id']==2011105000]['order_was_2'] = 1"
   ]
  },
  {
   "cell_type": "code",
   "execution_count": null,
   "metadata": {},
   "outputs": [],
   "source": [
    "data.at[41551,'order_was_2'] = 1"
   ]
  },
  {
   "cell_type": "code",
   "execution_count": null,
   "metadata": {},
   "outputs": [],
   "source": []
  },
  {
   "cell_type": "code",
   "execution_count": null,
   "metadata": {},
   "outputs": [],
   "source": [
    "data['order_was_2']=0\n",
    "data['order_was_3']=0\n",
    "for horse_id in data.horse_id.unique():\n",
    "    eachHorse=data[data['horse_id']==horse_id].sort_values('date').reset_index()\n",
    "    first_race_idx = eachHorse.loc[0,'index']\n",
    "    for n in range(len(eachHorse)-1):\n",
    "        this_race_idx=eachHorse.loc[n,'index']\n",
    "        next_race_idx = eachHorse.loc[n+1,'index']\n",
    "        if eachHorse.loc[n,'order_of_finish']==2:\n",
    "            data.at[next_race_idx, 'order_was_2'] =data.at[this_race_idx,'order_was_2'] + 1\n",
    "            data.at[next_race_idx, 'order_was_3'] =  data.at[this_race_idx, 'order_was_3']\n",
    "        elif eachHorse.loc[n,'order_of_finish']==3:\n",
    "            data.at[next_race_idx, 'order_was_2'] =data.at[this_race_idx,'order_was_2']\n",
    "            data.at[next_race_idx, 'order_was_3'] =  data.at[this_race_idx,'order_was_3'] + 1\n",
    "        else :\n",
    "            data.at[next_race_idx, 'order_was_2'] =data.at[this_race_idx,'order_was_2'] \n",
    "            data.at[next_race_idx, 'order_was_3'] =data.at[this_race_idx,'order_was_3']\n",
    "            \n",
    "    del eachHorse\n",
    "    gc.collect()\n",
    "            \n",
    "        "
   ]
  },
  {
   "cell_type": "code",
   "execution_count": null,
   "metadata": {},
   "outputs": [],
   "source": [
    "data[data['horse_id']==2012100599].sort_values('date')"
   ]
  },
  {
   "cell_type": "code",
   "execution_count": null,
   "metadata": {},
   "outputs": [],
   "source": [
    "order_was_2_3 = data[['race_id','horse_id','order_was_2','order_was_3']]"
   ]
  },
  {
   "cell_type": "code",
   "execution_count": null,
   "metadata": {},
   "outputs": [],
   "source": [
    "order_was_2_3.to_csv('order_was_2_3.csv')"
   ]
  },
  {
   "cell_type": "code",
   "execution_count": null,
   "metadata": {},
   "outputs": [],
   "source": [
    "data.head()"
   ]
  },
  {
   "cell_type": "code",
   "execution_count": null,
   "metadata": {},
   "outputs": [],
   "source": []
  },
  {
   "cell_type": "code",
   "execution_count": null,
   "metadata": {},
   "outputs": [],
   "source": [
    "import gc"
   ]
  },
  {
   "cell_type": "code",
   "execution_count": null,
   "metadata": {},
   "outputs": [],
   "source": [
    "eachHorse[eachHorse['order_of_finish']==1]['order_of_finish'].count()"
   ]
  },
  {
   "cell_type": "code",
   "execution_count": null,
   "metadata": {},
   "outputs": [],
   "source": [
    "def winTime2_3(horse_id, date):\n",
    "    eachHorse=data[data['horse_id']==horse_id][data['date']<date]\n",
    "    order_was_2 = eachHorse[eachHorse['order_of_finish']==2]['order_of_finish'].count()\n",
    "    order_was_3 = eachHorse[eachHorse['order_of_finish']==3]['order_of_finish'].count()\n",
    "    return order_was_2 ,order_was_3    "
   ]
  },
  {
   "cell_type": "code",
   "execution_count": null,
   "metadata": {},
   "outputs": [],
   "source": [
    "data['order_was_2']=0\n",
    "data['order_was_3']=0\n",
    "for horse_id in data.horse_id.unique():\n",
    "    eachHorse=data[data['horse_id']==horse_id].sort_values('date').reset_index()\n",
    "    for n in range(len(eachHorse)):\n",
    "        this_date=eachHorse.loc[n,'date']\n",
    "        this_idx = eachHorse.loc[n,'index']\n",
    "\n",
    "        data.at[this_idx, 'order_was_2'] ,data.at[this_idx, \n",
    "                                                  'order_was_3'] =  winTime2_3(horse_id,this_date)\n",
    "    del eachHorse\n",
    "    gc.collect()"
   ]
  },
  {
   "cell_type": "code",
   "execution_count": null,
   "metadata": {},
   "outputs": [],
   "source": []
  },
  {
   "cell_type": "code",
   "execution_count": null,
   "metadata": {},
   "outputs": [],
   "source": [
    "data[data['horse_id']==2012100599].sort_values('distance')[['distance','finishing_time']]"
   ]
  },
  {
   "cell_type": "code",
   "execution_count": null,
   "metadata": {},
   "outputs": [],
   "source": [
    "data[data['horse_id']==2012100599][data['distance']==1400]['finishing_time'].min()"
   ]
  },
  {
   "cell_type": "code",
   "execution_count": null,
   "metadata": {},
   "outputs": [],
   "source": []
  },
  {
   "cell_type": "code",
   "execution_count": null,
   "metadata": {},
   "outputs": [],
   "source": [
    "#距離変化量\n",
    "for horse_id in data.horse_id.unique():\n",
    "    eachHorse=data[data['horse_id']==horse_id].sort_values('date').reset_index()\n",
    "    first_race_idx = eachHorse.loc[0,'index']\n",
    "    data.at[first_race_idx,'changeDist']=0\n",
    "    for n in range(1, len(eachHorse)):\n",
    "        before_race_idx = eachHorse.loc[n-1,'index']\n",
    "        this_race_idx = eachHorse.loc[n,'index']\n",
    "        data.at[this_race_idx,'changeDist']=data.at[this_race_idx,\n",
    "                                                    'distance']-data.at[before_race_idx,'distance']\n",
    "        \n",
    "    del eachHorse\n",
    "    gc.collect()"
   ]
  },
  {
   "cell_type": "code",
   "execution_count": null,
   "metadata": {},
   "outputs": [],
   "source": [
    "eachHorse=data[data['horse_id']==2012100599].sort_values('date').reset_index()"
   ]
  },
  {
   "cell_type": "code",
   "execution_count": null,
   "metadata": {},
   "outputs": [],
   "source": [
    "eachHorse.head()"
   ]
  },
  {
   "cell_type": "code",
   "execution_count": null,
   "metadata": {},
   "outputs": [],
   "source": [
    "eachHorse.loc[0,'index']"
   ]
  },
  {
   "cell_type": "code",
   "execution_count": null,
   "metadata": {},
   "outputs": [],
   "source": [
    "data.at[82538,'changeDist']=0"
   ]
  },
  {
   "cell_type": "code",
   "execution_count": null,
   "metadata": {},
   "outputs": [],
   "source": [
    "data[data['horse_id']==2012100599].sort_values('date')[['distance',\n",
    "                                                            'changeDist']]"
   ]
  },
  {
   "cell_type": "code",
   "execution_count": null,
   "metadata": {},
   "outputs": [],
   "source": [
    "#前走３ハロン順位\n"
   ]
  },
  {
   "cell_type": "code",
   "execution_count": null,
   "metadata": {},
   "outputs": [],
   "source": [
    "eachRace = data[data['race_id']==4065].sort_values('last_phase',\n",
    "                                                   ).reset_index()"
   ]
  },
  {
   "cell_type": "code",
   "execution_count": null,
   "metadata": {},
   "outputs": [],
   "source": [
    "#今回の３ハロン順位結果\n",
    "for race_id in data.race_id.unique():\n",
    "    eachRace = data[data['race_id']==\n",
    "                    race_id].sort_values('last_phase').reset_index()\n",
    "    for n in range(len(eachRace)) :\n",
    "        idx = eachRace.loc[n,'index']\n",
    "        data.at[idx, 'last_phase_order'] =  n+1\n",
    "    del eachRace\n",
    "    gc.collect()"
   ]
  },
  {
   "cell_type": "code",
   "execution_count": null,
   "metadata": {},
   "outputs": [],
   "source": [
    "#前回の３ハロン順位\n",
    "for horse_id in data.horse_id.unique():\n",
    "    eachHorse=data[data['horse_id']==horse_id].sort_values('date').reset_index()\n",
    "    first_race_idx = eachHorse.loc[0,'index']\n",
    "    data.at[first_race_idx,'pre_last_phase_order']=0\n",
    "    for n in range(1, len(eachHorse)):\n",
    "        before_race_idx = eachHorse.loc[n-1,'index']\n",
    "        this_race_idx = eachHorse.loc[n,'index']\n",
    "        data.at[this_race_idx,'pre_last_phase_order']=data.at[before_race_idx,\n",
    "                                                              'last_phase_order']\n",
    "    del eachHorse\n",
    "    gc.collect()"
   ]
  },
  {
   "cell_type": "code",
   "execution_count": null,
   "metadata": {},
   "outputs": [],
   "source": [
    "data[data['horse_id']==2012102296].sort_values('date')"
   ]
  },
  {
   "cell_type": "code",
   "execution_count": null,
   "metadata": {},
   "outputs": [],
   "source": [
    "data['winRunTimes']=data['winRun']*data['enterTimes']\n",
    "data['not123times'] = data['enterTimes']-data['winRun'\n",
    "                                              +'Times']-data['order_was_2']-data['order_was_3']"
   ]
  },
  {
   "cell_type": "code",
   "execution_count": null,
   "metadata": {},
   "outputs": [],
   "source": [
    "data[['enterTimes','winRunTimes','order_was_2','order_was_3','not123times']]"
   ]
  },
  {
   "cell_type": "code",
   "execution_count": null,
   "metadata": {},
   "outputs": [],
   "source": []
  },
  {
   "cell_type": "code",
   "execution_count": null,
   "metadata": {
    "scrolled": true
   },
   "outputs": [],
   "source": [
    "data.isnull().any(axis=0)"
   ]
  },
  {
   "cell_type": "code",
   "execution_count": null,
   "metadata": {},
   "outputs": [],
   "source": [
    "data['dhweight']= data['dhweight'].fillna(data['dhweight'].mean())"
   ]
  },
  {
   "cell_type": "code",
   "execution_count": null,
   "metadata": {
    "scrolled": true
   },
   "outputs": [],
   "source": [
    "data[data['earning_money'].isnull()]"
   ]
  },
  {
   "cell_type": "code",
   "execution_count": null,
   "metadata": {},
   "outputs": [],
   "source": [
    "data['jwinper']"
   ]
  },
  {
   "cell_type": "code",
   "execution_count": null,
   "metadata": {},
   "outputs": [],
   "source": [
    "data['jwimper'] = data['jwimper'].fillna(0)"
   ]
  }
 ],
 "metadata": {
  "kernelspec": {
   "display_name": "Python 3",
   "language": "python",
   "name": "python3"
  },
  "language_info": {
   "codemirror_mode": {
    "name": "ipython",
    "version": 3
   },
   "file_extension": ".py",
   "mimetype": "text/x-python",
   "name": "python",
   "nbconvert_exporter": "python",
   "pygments_lexer": "ipython3",
   "version": "3.6.4"
  }
 },
 "nbformat": 4,
 "nbformat_minor": 2
}
